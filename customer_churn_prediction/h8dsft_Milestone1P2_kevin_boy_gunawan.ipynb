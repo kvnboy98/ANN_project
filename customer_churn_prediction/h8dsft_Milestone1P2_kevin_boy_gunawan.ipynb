{
  "cells": [
    {
      "cell_type": "markdown",
      "metadata": {
        "id": "uP0ZG7cFZyCl"
      },
      "source": [
        "# MILESTONE 1 PHASE 2\n",
        "`Kevin Boy Gunawan`\n",
        "<br>\n",
        "\n",
        "`FTDS-009`"
      ]
    },
    {
      "cell_type": "markdown",
      "metadata": {
        "id": "dc4f7kc5ZyCy"
      },
      "source": [
        "## 1. Introduction"
      ]
    },
    {
      "cell_type": "markdown",
      "metadata": {
        "id": "1XdHKLi9lf6X"
      },
      "source": [
        "The data set includes information about:\n",
        "\n",
        "* Customers who left within the last month – the column is called Churn\n",
        "* Services that each customer has signed up for – phone, multiple lines, internet, online security, online backup, device protection, tech support, and streaming TV and movies\n",
        "* Customer account information – how long they’ve been a customer, contract, payment method, paperless billing, monthly charges, and total charges\n",
        "* Demographic info about customers – gender, age range, and if they have partners and dependents\n",
        "\n",
        "link for dataset : https://www.kaggle.com/datasets/blastchar/telco-customer-churn"
      ]
    },
    {
      "cell_type": "markdown",
      "metadata": {
        "id": "Amsd6MaJlsyf"
      },
      "source": [
        "**Objective**\n",
        "\n",
        "Objective that i want to achieve from this project is predicting customer churn using deep learn"
      ]
    },
    {
      "cell_type": "markdown",
      "metadata": {},
      "source": [
        "app url : https://milestone1-p2-kevin-boy.herokuapp.com/"
      ]
    },
    {
      "cell_type": "markdown",
      "metadata": {
        "id": "2Foe4NinZyCz"
      },
      "source": [
        "## 2. Import Libraries"
      ]
    },
    {
      "cell_type": "code",
      "execution_count": 100,
      "metadata": {
        "id": "vkJsOgj55nLH"
      },
      "outputs": [],
      "source": [
        "import pandas as pd\n",
        "import numpy as np\n",
        "import seaborn as sns\n",
        "import matplotlib.pyplot as plt\n",
        "\n",
        "from sklearn.model_selection import train_test_split\n",
        "from sklearn.pipeline import Pipeline, make_pipeline\n",
        "from sklearn.compose import ColumnTransformer\n",
        "from sklearn.preprocessing import OneHotEncoder, StandardScaler, PowerTransformer, MinMaxScaler\n",
        "from sklearn.metrics import classification_report\n",
        "\n",
        "from imblearn.over_sampling import SMOTE\n",
        "\n",
        "import tensorflow as tf\n",
        "from tensorflow.keras.models import Sequential\n",
        "from tensorflow.keras.layers import Dense, Input\n",
        "from tensorflow.keras.models import Model\n",
        "\n",
        "import pickle\n",
        "import warnings\n",
        "warnings.filterwarnings(\"ignore\")"
      ]
    },
    {
      "cell_type": "markdown",
      "metadata": {
        "id": "V9bjAs5DZyC1"
      },
      "source": [
        "## 3. Data Loading"
      ]
    },
    {
      "cell_type": "code",
      "execution_count": 3,
      "metadata": {
        "id": "f7NiZyRBZyC2"
      },
      "outputs": [],
      "source": [
        "data = pd.read_csv('/content/drive/MyDrive/churn.csv')"
      ]
    },
    {
      "cell_type": "code",
      "execution_count": 4,
      "metadata": {
        "id": "_KJbam_B_8eN"
      },
      "outputs": [],
      "source": [
        "pd.set_option(\"display.max_columns\", 50)"
      ]
    },
    {
      "cell_type": "code",
      "execution_count": 5,
      "metadata": {
        "colab": {
          "base_uri": "https://localhost:8080/",
          "height": 357
        },
        "id": "n4Nu2I5r6BHE",
        "outputId": "32e96689-784c-4c2f-dad4-bf0fd581f203"
      },
      "outputs": [
        {
          "data": {
            "text/html": [
              "\n",
              "  <div id=\"df-a0426cc7-2c58-4be6-87e2-3fb96b0c0c0c\">\n",
              "    <div class=\"colab-df-container\">\n",
              "      <div>\n",
              "<style scoped>\n",
              "    .dataframe tbody tr th:only-of-type {\n",
              "        vertical-align: middle;\n",
              "    }\n",
              "\n",
              "    .dataframe tbody tr th {\n",
              "        vertical-align: top;\n",
              "    }\n",
              "\n",
              "    .dataframe thead th {\n",
              "        text-align: right;\n",
              "    }\n",
              "</style>\n",
              "<table border=\"1\" class=\"dataframe\">\n",
              "  <thead>\n",
              "    <tr style=\"text-align: right;\">\n",
              "      <th></th>\n",
              "      <th>customerID</th>\n",
              "      <th>gender</th>\n",
              "      <th>SeniorCitizen</th>\n",
              "      <th>Partner</th>\n",
              "      <th>Dependents</th>\n",
              "      <th>tenure</th>\n",
              "      <th>PhoneService</th>\n",
              "      <th>MultipleLines</th>\n",
              "      <th>InternetService</th>\n",
              "      <th>OnlineSecurity</th>\n",
              "      <th>OnlineBackup</th>\n",
              "      <th>DeviceProtection</th>\n",
              "      <th>TechSupport</th>\n",
              "      <th>StreamingTV</th>\n",
              "      <th>StreamingMovies</th>\n",
              "      <th>Contract</th>\n",
              "      <th>PaperlessBilling</th>\n",
              "      <th>PaymentMethod</th>\n",
              "      <th>MonthlyCharges</th>\n",
              "      <th>TotalCharges</th>\n",
              "      <th>Churn</th>\n",
              "    </tr>\n",
              "  </thead>\n",
              "  <tbody>\n",
              "    <tr>\n",
              "      <th>0</th>\n",
              "      <td>7590-VHVEG</td>\n",
              "      <td>Female</td>\n",
              "      <td>0</td>\n",
              "      <td>Yes</td>\n",
              "      <td>No</td>\n",
              "      <td>1</td>\n",
              "      <td>No</td>\n",
              "      <td>No phone service</td>\n",
              "      <td>DSL</td>\n",
              "      <td>No</td>\n",
              "      <td>Yes</td>\n",
              "      <td>No</td>\n",
              "      <td>No</td>\n",
              "      <td>No</td>\n",
              "      <td>No</td>\n",
              "      <td>Month-to-month</td>\n",
              "      <td>Yes</td>\n",
              "      <td>Electronic check</td>\n",
              "      <td>29.85</td>\n",
              "      <td>29.85</td>\n",
              "      <td>No</td>\n",
              "    </tr>\n",
              "    <tr>\n",
              "      <th>1</th>\n",
              "      <td>5575-GNVDE</td>\n",
              "      <td>Male</td>\n",
              "      <td>0</td>\n",
              "      <td>No</td>\n",
              "      <td>No</td>\n",
              "      <td>34</td>\n",
              "      <td>Yes</td>\n",
              "      <td>No</td>\n",
              "      <td>DSL</td>\n",
              "      <td>Yes</td>\n",
              "      <td>No</td>\n",
              "      <td>Yes</td>\n",
              "      <td>No</td>\n",
              "      <td>No</td>\n",
              "      <td>No</td>\n",
              "      <td>One year</td>\n",
              "      <td>No</td>\n",
              "      <td>Mailed check</td>\n",
              "      <td>56.95</td>\n",
              "      <td>1889.5</td>\n",
              "      <td>No</td>\n",
              "    </tr>\n",
              "    <tr>\n",
              "      <th>2</th>\n",
              "      <td>3668-QPYBK</td>\n",
              "      <td>Male</td>\n",
              "      <td>0</td>\n",
              "      <td>No</td>\n",
              "      <td>No</td>\n",
              "      <td>2</td>\n",
              "      <td>Yes</td>\n",
              "      <td>No</td>\n",
              "      <td>DSL</td>\n",
              "      <td>Yes</td>\n",
              "      <td>Yes</td>\n",
              "      <td>No</td>\n",
              "      <td>No</td>\n",
              "      <td>No</td>\n",
              "      <td>No</td>\n",
              "      <td>Month-to-month</td>\n",
              "      <td>Yes</td>\n",
              "      <td>Mailed check</td>\n",
              "      <td>53.85</td>\n",
              "      <td>108.15</td>\n",
              "      <td>Yes</td>\n",
              "    </tr>\n",
              "    <tr>\n",
              "      <th>3</th>\n",
              "      <td>7795-CFOCW</td>\n",
              "      <td>Male</td>\n",
              "      <td>0</td>\n",
              "      <td>No</td>\n",
              "      <td>No</td>\n",
              "      <td>45</td>\n",
              "      <td>No</td>\n",
              "      <td>No phone service</td>\n",
              "      <td>DSL</td>\n",
              "      <td>Yes</td>\n",
              "      <td>No</td>\n",
              "      <td>Yes</td>\n",
              "      <td>Yes</td>\n",
              "      <td>No</td>\n",
              "      <td>No</td>\n",
              "      <td>One year</td>\n",
              "      <td>No</td>\n",
              "      <td>Bank transfer (automatic)</td>\n",
              "      <td>42.30</td>\n",
              "      <td>1840.75</td>\n",
              "      <td>No</td>\n",
              "    </tr>\n",
              "    <tr>\n",
              "      <th>4</th>\n",
              "      <td>9237-HQITU</td>\n",
              "      <td>Female</td>\n",
              "      <td>0</td>\n",
              "      <td>No</td>\n",
              "      <td>No</td>\n",
              "      <td>2</td>\n",
              "      <td>Yes</td>\n",
              "      <td>No</td>\n",
              "      <td>Fiber optic</td>\n",
              "      <td>No</td>\n",
              "      <td>No</td>\n",
              "      <td>No</td>\n",
              "      <td>No</td>\n",
              "      <td>No</td>\n",
              "      <td>No</td>\n",
              "      <td>Month-to-month</td>\n",
              "      <td>Yes</td>\n",
              "      <td>Electronic check</td>\n",
              "      <td>70.70</td>\n",
              "      <td>151.65</td>\n",
              "      <td>Yes</td>\n",
              "    </tr>\n",
              "  </tbody>\n",
              "</table>\n",
              "</div>\n",
              "      <button class=\"colab-df-convert\" onclick=\"convertToInteractive('df-a0426cc7-2c58-4be6-87e2-3fb96b0c0c0c')\"\n",
              "              title=\"Convert this dataframe to an interactive table.\"\n",
              "              style=\"display:none;\">\n",
              "        \n",
              "  <svg xmlns=\"http://www.w3.org/2000/svg\" height=\"24px\"viewBox=\"0 0 24 24\"\n",
              "       width=\"24px\">\n",
              "    <path d=\"M0 0h24v24H0V0z\" fill=\"none\"/>\n",
              "    <path d=\"M18.56 5.44l.94 2.06.94-2.06 2.06-.94-2.06-.94-.94-2.06-.94 2.06-2.06.94zm-11 1L8.5 8.5l.94-2.06 2.06-.94-2.06-.94L8.5 2.5l-.94 2.06-2.06.94zm10 10l.94 2.06.94-2.06 2.06-.94-2.06-.94-.94-2.06-.94 2.06-2.06.94z\"/><path d=\"M17.41 7.96l-1.37-1.37c-.4-.4-.92-.59-1.43-.59-.52 0-1.04.2-1.43.59L10.3 9.45l-7.72 7.72c-.78.78-.78 2.05 0 2.83L4 21.41c.39.39.9.59 1.41.59.51 0 1.02-.2 1.41-.59l7.78-7.78 2.81-2.81c.8-.78.8-2.07 0-2.86zM5.41 20L4 18.59l7.72-7.72 1.47 1.35L5.41 20z\"/>\n",
              "  </svg>\n",
              "      </button>\n",
              "      \n",
              "  <style>\n",
              "    .colab-df-container {\n",
              "      display:flex;\n",
              "      flex-wrap:wrap;\n",
              "      gap: 12px;\n",
              "    }\n",
              "\n",
              "    .colab-df-convert {\n",
              "      background-color: #E8F0FE;\n",
              "      border: none;\n",
              "      border-radius: 50%;\n",
              "      cursor: pointer;\n",
              "      display: none;\n",
              "      fill: #1967D2;\n",
              "      height: 32px;\n",
              "      padding: 0 0 0 0;\n",
              "      width: 32px;\n",
              "    }\n",
              "\n",
              "    .colab-df-convert:hover {\n",
              "      background-color: #E2EBFA;\n",
              "      box-shadow: 0px 1px 2px rgba(60, 64, 67, 0.3), 0px 1px 3px 1px rgba(60, 64, 67, 0.15);\n",
              "      fill: #174EA6;\n",
              "    }\n",
              "\n",
              "    [theme=dark] .colab-df-convert {\n",
              "      background-color: #3B4455;\n",
              "      fill: #D2E3FC;\n",
              "    }\n",
              "\n",
              "    [theme=dark] .colab-df-convert:hover {\n",
              "      background-color: #434B5C;\n",
              "      box-shadow: 0px 1px 3px 1px rgba(0, 0, 0, 0.15);\n",
              "      filter: drop-shadow(0px 1px 2px rgba(0, 0, 0, 0.3));\n",
              "      fill: #FFFFFF;\n",
              "    }\n",
              "  </style>\n",
              "\n",
              "      <script>\n",
              "        const buttonEl =\n",
              "          document.querySelector('#df-a0426cc7-2c58-4be6-87e2-3fb96b0c0c0c button.colab-df-convert');\n",
              "        buttonEl.style.display =\n",
              "          google.colab.kernel.accessAllowed ? 'block' : 'none';\n",
              "\n",
              "        async function convertToInteractive(key) {\n",
              "          const element = document.querySelector('#df-a0426cc7-2c58-4be6-87e2-3fb96b0c0c0c');\n",
              "          const dataTable =\n",
              "            await google.colab.kernel.invokeFunction('convertToInteractive',\n",
              "                                                     [key], {});\n",
              "          if (!dataTable) return;\n",
              "\n",
              "          const docLinkHtml = 'Like what you see? Visit the ' +\n",
              "            '<a target=\"_blank\" href=https://colab.research.google.com/notebooks/data_table.ipynb>data table notebook</a>'\n",
              "            + ' to learn more about interactive tables.';\n",
              "          element.innerHTML = '';\n",
              "          dataTable['output_type'] = 'display_data';\n",
              "          await google.colab.output.renderOutput(dataTable, element);\n",
              "          const docLink = document.createElement('div');\n",
              "          docLink.innerHTML = docLinkHtml;\n",
              "          element.appendChild(docLink);\n",
              "        }\n",
              "      </script>\n",
              "    </div>\n",
              "  </div>\n",
              "  "
            ],
            "text/plain": [
              "   customerID  gender  SeniorCitizen Partner Dependents  tenure PhoneService  \\\n",
              "0  7590-VHVEG  Female              0     Yes         No       1           No   \n",
              "1  5575-GNVDE    Male              0      No         No      34          Yes   \n",
              "2  3668-QPYBK    Male              0      No         No       2          Yes   \n",
              "3  7795-CFOCW    Male              0      No         No      45           No   \n",
              "4  9237-HQITU  Female              0      No         No       2          Yes   \n",
              "\n",
              "      MultipleLines InternetService OnlineSecurity OnlineBackup  \\\n",
              "0  No phone service             DSL             No          Yes   \n",
              "1                No             DSL            Yes           No   \n",
              "2                No             DSL            Yes          Yes   \n",
              "3  No phone service             DSL            Yes           No   \n",
              "4                No     Fiber optic             No           No   \n",
              "\n",
              "  DeviceProtection TechSupport StreamingTV StreamingMovies        Contract  \\\n",
              "0               No          No          No              No  Month-to-month   \n",
              "1              Yes          No          No              No        One year   \n",
              "2               No          No          No              No  Month-to-month   \n",
              "3              Yes         Yes          No              No        One year   \n",
              "4               No          No          No              No  Month-to-month   \n",
              "\n",
              "  PaperlessBilling              PaymentMethod  MonthlyCharges TotalCharges  \\\n",
              "0              Yes           Electronic check           29.85        29.85   \n",
              "1               No               Mailed check           56.95       1889.5   \n",
              "2              Yes               Mailed check           53.85       108.15   \n",
              "3               No  Bank transfer (automatic)           42.30      1840.75   \n",
              "4              Yes           Electronic check           70.70       151.65   \n",
              "\n",
              "  Churn  \n",
              "0    No  \n",
              "1    No  \n",
              "2   Yes  \n",
              "3    No  \n",
              "4   Yes  "
            ]
          },
          "execution_count": 5,
          "metadata": {},
          "output_type": "execute_result"
        }
      ],
      "source": [
        "data.head()"
      ]
    },
    {
      "cell_type": "code",
      "execution_count": 142,
      "metadata": {
        "colab": {
          "base_uri": "https://localhost:8080/"
        },
        "id": "FiO8ShP8mvMS",
        "outputId": "a64cdb67-8bda-4b4c-acef-838a3306b6c3"
      },
      "outputs": [
        {
          "data": {
            "text/plain": [
              "(7043, 21)"
            ]
          },
          "execution_count": 142,
          "metadata": {},
          "output_type": "execute_result"
        }
      ],
      "source": [
        "data.shape"
      ]
    },
    {
      "cell_type": "code",
      "execution_count": 6,
      "metadata": {
        "colab": {
          "base_uri": "https://localhost:8080/"
        },
        "id": "4P8f6JzE6418",
        "outputId": "fe007597-bd11-45b1-ef72-aa0086f0a3ac"
      },
      "outputs": [
        {
          "name": "stdout",
          "output_type": "stream",
          "text": [
            "<class 'pandas.core.frame.DataFrame'>\n",
            "RangeIndex: 7043 entries, 0 to 7042\n",
            "Data columns (total 21 columns):\n",
            " #   Column            Non-Null Count  Dtype  \n",
            "---  ------            --------------  -----  \n",
            " 0   customerID        7043 non-null   object \n",
            " 1   gender            7043 non-null   object \n",
            " 2   SeniorCitizen     7043 non-null   int64  \n",
            " 3   Partner           7043 non-null   object \n",
            " 4   Dependents        7043 non-null   object \n",
            " 5   tenure            7043 non-null   int64  \n",
            " 6   PhoneService      7043 non-null   object \n",
            " 7   MultipleLines     7043 non-null   object \n",
            " 8   InternetService   7043 non-null   object \n",
            " 9   OnlineSecurity    7043 non-null   object \n",
            " 10  OnlineBackup      7043 non-null   object \n",
            " 11  DeviceProtection  7043 non-null   object \n",
            " 12  TechSupport       7043 non-null   object \n",
            " 13  StreamingTV       7043 non-null   object \n",
            " 14  StreamingMovies   7043 non-null   object \n",
            " 15  Contract          7043 non-null   object \n",
            " 16  PaperlessBilling  7043 non-null   object \n",
            " 17  PaymentMethod     7043 non-null   object \n",
            " 18  MonthlyCharges    7043 non-null   float64\n",
            " 19  TotalCharges      7043 non-null   object \n",
            " 20  Churn             7043 non-null   object \n",
            "dtypes: float64(1), int64(2), object(18)\n",
            "memory usage: 1.1+ MB\n"
          ]
        }
      ],
      "source": [
        "data.info()"
      ]
    },
    {
      "cell_type": "markdown",
      "metadata": {
        "id": "cBcKdAHWmxMi"
      },
      "source": [
        "mostly we have columns with object type. but if we looks further, column TotalCharges is supposed to have float type instead of object. so i will make a type-change for this columns and convert it to the numeric type."
      ]
    },
    {
      "cell_type": "code",
      "execution_count": 7,
      "metadata": {
        "id": "Wt4LX6p394LC"
      },
      "outputs": [],
      "source": [
        "data['TotalCharges'] = data['TotalCharges'].replace(' ', np.nan, regex=True)\n",
        "data['TotalCharges'] = pd.to_numeric(data['TotalCharges'])"
      ]
    },
    {
      "cell_type": "code",
      "execution_count": 8,
      "metadata": {
        "colab": {
          "base_uri": "https://localhost:8080/"
        },
        "id": "BD-jfH7R672k",
        "outputId": "24c15f1e-71c3-4450-82d9-a27617d8fa05"
      },
      "outputs": [
        {
          "data": {
            "text/plain": [
              "TotalCharges        11\n",
              "customerID           0\n",
              "DeviceProtection     0\n",
              "MonthlyCharges       0\n",
              "PaymentMethod        0\n",
              "PaperlessBilling     0\n",
              "Contract             0\n",
              "StreamingMovies      0\n",
              "StreamingTV          0\n",
              "TechSupport          0\n",
              "OnlineBackup         0\n",
              "gender               0\n",
              "OnlineSecurity       0\n",
              "InternetService      0\n",
              "MultipleLines        0\n",
              "PhoneService         0\n",
              "tenure               0\n",
              "Dependents           0\n",
              "Partner              0\n",
              "SeniorCitizen        0\n",
              "Churn                0\n",
              "dtype: int64"
            ]
          },
          "execution_count": 8,
          "metadata": {},
          "output_type": "execute_result"
        }
      ],
      "source": [
        "data.isnull().sum().sort_values(ascending=False)"
      ]
    },
    {
      "cell_type": "markdown",
      "metadata": {
        "id": "ce9n1AeNnosk"
      },
      "source": [
        "suprisingly there is only few missing value on our datas, its a good sign since we dont need extra effort for handling this missingness"
      ]
    },
    {
      "cell_type": "code",
      "execution_count": 9,
      "metadata": {
        "colab": {
          "base_uri": "https://localhost:8080/"
        },
        "id": "J5MQd52S7Cyd",
        "outputId": "82873644-72d6-4dd6-e9da-90976d15ecf0"
      },
      "outputs": [
        {
          "data": {
            "text/plain": [
              "0"
            ]
          },
          "execution_count": 9,
          "metadata": {},
          "output_type": "execute_result"
        }
      ],
      "source": [
        "data.duplicated().sum()"
      ]
    },
    {
      "cell_type": "code",
      "execution_count": 10,
      "metadata": {
        "colab": {
          "base_uri": "https://localhost:8080/"
        },
        "id": "EBERrxIu7HoG",
        "outputId": "c63d725a-3bee-46aa-e142-e179ad8d3bed"
      },
      "outputs": [
        {
          "data": {
            "text/plain": [
              "customerID          7043\n",
              "gender                 2\n",
              "SeniorCitizen          2\n",
              "Partner                2\n",
              "Dependents             2\n",
              "tenure                73\n",
              "PhoneService           2\n",
              "MultipleLines          3\n",
              "InternetService        3\n",
              "OnlineSecurity         3\n",
              "OnlineBackup           3\n",
              "DeviceProtection       3\n",
              "TechSupport            3\n",
              "StreamingTV            3\n",
              "StreamingMovies        3\n",
              "Contract               3\n",
              "PaperlessBilling       2\n",
              "PaymentMethod          4\n",
              "MonthlyCharges      1585\n",
              "TotalCharges        6530\n",
              "Churn                  2\n",
              "dtype: int64"
            ]
          },
          "execution_count": 10,
          "metadata": {},
          "output_type": "execute_result"
        }
      ],
      "source": [
        "data.nunique()"
      ]
    },
    {
      "cell_type": "markdown",
      "metadata": {
        "id": "NQ45yCTYO1io"
      },
      "source": [
        "as we can see above, the majority of data is categorical with 2 or 3 clasess"
      ]
    },
    {
      "cell_type": "code",
      "execution_count": 11,
      "metadata": {
        "colab": {
          "base_uri": "https://localhost:8080/",
          "height": 143
        },
        "id": "PdOoNDXZtSuA",
        "outputId": "ff463c37-5d4f-4703-f2ac-0e34720f5b9b"
      },
      "outputs": [
        {
          "data": {
            "text/html": [
              "\n",
              "  <div id=\"df-37442ec7-0d9f-4e9e-a587-a57c45bf6d53\">\n",
              "    <div class=\"colab-df-container\">\n",
              "      <div>\n",
              "<style scoped>\n",
              "    .dataframe tbody tr th:only-of-type {\n",
              "        vertical-align: middle;\n",
              "    }\n",
              "\n",
              "    .dataframe tbody tr th {\n",
              "        vertical-align: top;\n",
              "    }\n",
              "\n",
              "    .dataframe thead th {\n",
              "        text-align: right;\n",
              "    }\n",
              "</style>\n",
              "<table border=\"1\" class=\"dataframe\">\n",
              "  <thead>\n",
              "    <tr style=\"text-align: right;\">\n",
              "      <th></th>\n",
              "      <th>count</th>\n",
              "      <th>mean</th>\n",
              "      <th>std</th>\n",
              "      <th>min</th>\n",
              "      <th>25%</th>\n",
              "      <th>50%</th>\n",
              "      <th>75%</th>\n",
              "      <th>max</th>\n",
              "    </tr>\n",
              "  </thead>\n",
              "  <tbody>\n",
              "    <tr>\n",
              "      <th>tenure</th>\n",
              "      <td>7043.0</td>\n",
              "      <td>32.371149</td>\n",
              "      <td>24.559481</td>\n",
              "      <td>0.00</td>\n",
              "      <td>9.00</td>\n",
              "      <td>29.000</td>\n",
              "      <td>55.0000</td>\n",
              "      <td>72.00</td>\n",
              "    </tr>\n",
              "    <tr>\n",
              "      <th>MonthlyCharges</th>\n",
              "      <td>7043.0</td>\n",
              "      <td>64.761692</td>\n",
              "      <td>30.090047</td>\n",
              "      <td>18.25</td>\n",
              "      <td>35.50</td>\n",
              "      <td>70.350</td>\n",
              "      <td>89.8500</td>\n",
              "      <td>118.75</td>\n",
              "    </tr>\n",
              "    <tr>\n",
              "      <th>TotalCharges</th>\n",
              "      <td>7032.0</td>\n",
              "      <td>2283.300441</td>\n",
              "      <td>2266.771362</td>\n",
              "      <td>18.80</td>\n",
              "      <td>401.45</td>\n",
              "      <td>1397.475</td>\n",
              "      <td>3794.7375</td>\n",
              "      <td>8684.80</td>\n",
              "    </tr>\n",
              "  </tbody>\n",
              "</table>\n",
              "</div>\n",
              "      <button class=\"colab-df-convert\" onclick=\"convertToInteractive('df-37442ec7-0d9f-4e9e-a587-a57c45bf6d53')\"\n",
              "              title=\"Convert this dataframe to an interactive table.\"\n",
              "              style=\"display:none;\">\n",
              "        \n",
              "  <svg xmlns=\"http://www.w3.org/2000/svg\" height=\"24px\"viewBox=\"0 0 24 24\"\n",
              "       width=\"24px\">\n",
              "    <path d=\"M0 0h24v24H0V0z\" fill=\"none\"/>\n",
              "    <path d=\"M18.56 5.44l.94 2.06.94-2.06 2.06-.94-2.06-.94-.94-2.06-.94 2.06-2.06.94zm-11 1L8.5 8.5l.94-2.06 2.06-.94-2.06-.94L8.5 2.5l-.94 2.06-2.06.94zm10 10l.94 2.06.94-2.06 2.06-.94-2.06-.94-.94-2.06-.94 2.06-2.06.94z\"/><path d=\"M17.41 7.96l-1.37-1.37c-.4-.4-.92-.59-1.43-.59-.52 0-1.04.2-1.43.59L10.3 9.45l-7.72 7.72c-.78.78-.78 2.05 0 2.83L4 21.41c.39.39.9.59 1.41.59.51 0 1.02-.2 1.41-.59l7.78-7.78 2.81-2.81c.8-.78.8-2.07 0-2.86zM5.41 20L4 18.59l7.72-7.72 1.47 1.35L5.41 20z\"/>\n",
              "  </svg>\n",
              "      </button>\n",
              "      \n",
              "  <style>\n",
              "    .colab-df-container {\n",
              "      display:flex;\n",
              "      flex-wrap:wrap;\n",
              "      gap: 12px;\n",
              "    }\n",
              "\n",
              "    .colab-df-convert {\n",
              "      background-color: #E8F0FE;\n",
              "      border: none;\n",
              "      border-radius: 50%;\n",
              "      cursor: pointer;\n",
              "      display: none;\n",
              "      fill: #1967D2;\n",
              "      height: 32px;\n",
              "      padding: 0 0 0 0;\n",
              "      width: 32px;\n",
              "    }\n",
              "\n",
              "    .colab-df-convert:hover {\n",
              "      background-color: #E2EBFA;\n",
              "      box-shadow: 0px 1px 2px rgba(60, 64, 67, 0.3), 0px 1px 3px 1px rgba(60, 64, 67, 0.15);\n",
              "      fill: #174EA6;\n",
              "    }\n",
              "\n",
              "    [theme=dark] .colab-df-convert {\n",
              "      background-color: #3B4455;\n",
              "      fill: #D2E3FC;\n",
              "    }\n",
              "\n",
              "    [theme=dark] .colab-df-convert:hover {\n",
              "      background-color: #434B5C;\n",
              "      box-shadow: 0px 1px 3px 1px rgba(0, 0, 0, 0.15);\n",
              "      filter: drop-shadow(0px 1px 2px rgba(0, 0, 0, 0.3));\n",
              "      fill: #FFFFFF;\n",
              "    }\n",
              "  </style>\n",
              "\n",
              "      <script>\n",
              "        const buttonEl =\n",
              "          document.querySelector('#df-37442ec7-0d9f-4e9e-a587-a57c45bf6d53 button.colab-df-convert');\n",
              "        buttonEl.style.display =\n",
              "          google.colab.kernel.accessAllowed ? 'block' : 'none';\n",
              "\n",
              "        async function convertToInteractive(key) {\n",
              "          const element = document.querySelector('#df-37442ec7-0d9f-4e9e-a587-a57c45bf6d53');\n",
              "          const dataTable =\n",
              "            await google.colab.kernel.invokeFunction('convertToInteractive',\n",
              "                                                     [key], {});\n",
              "          if (!dataTable) return;\n",
              "\n",
              "          const docLinkHtml = 'Like what you see? Visit the ' +\n",
              "            '<a target=\"_blank\" href=https://colab.research.google.com/notebooks/data_table.ipynb>data table notebook</a>'\n",
              "            + ' to learn more about interactive tables.';\n",
              "          element.innerHTML = '';\n",
              "          dataTable['output_type'] = 'display_data';\n",
              "          await google.colab.output.renderOutput(dataTable, element);\n",
              "          const docLink = document.createElement('div');\n",
              "          docLink.innerHTML = docLinkHtml;\n",
              "          element.appendChild(docLink);\n",
              "        }\n",
              "      </script>\n",
              "    </div>\n",
              "  </div>\n",
              "  "
            ],
            "text/plain": [
              "                 count         mean          std    min     25%       50%  \\\n",
              "tenure          7043.0    32.371149    24.559481   0.00    9.00    29.000   \n",
              "MonthlyCharges  7043.0    64.761692    30.090047  18.25   35.50    70.350   \n",
              "TotalCharges    7032.0  2283.300441  2266.771362  18.80  401.45  1397.475   \n",
              "\n",
              "                      75%      max  \n",
              "tenure            55.0000    72.00  \n",
              "MonthlyCharges    89.8500   118.75  \n",
              "TotalCharges    3794.7375  8684.80  "
            ]
          },
          "execution_count": 11,
          "metadata": {},
          "output_type": "execute_result"
        }
      ],
      "source": [
        "data[['tenure', 'MonthlyCharges', 'TotalCharges']].describe().T"
      ]
    },
    {
      "cell_type": "markdown",
      "metadata": {
        "id": "lfex0pu1ZyDA"
      },
      "source": [
        "## 4. Exploratory Data Analysis (EDA)"
      ]
    },
    {
      "cell_type": "code",
      "execution_count": 12,
      "metadata": {
        "colab": {
          "base_uri": "https://localhost:8080/",
          "height": 357
        },
        "id": "rKy5WLMpszB3",
        "outputId": "13e81b9a-0602-4b57-af0c-e8e8b3f94391"
      },
      "outputs": [
        {
          "data": {
            "text/html": [
              "\n",
              "  <div id=\"df-b138fa52-275b-43b7-add9-438550feecea\">\n",
              "    <div class=\"colab-df-container\">\n",
              "      <div>\n",
              "<style scoped>\n",
              "    .dataframe tbody tr th:only-of-type {\n",
              "        vertical-align: middle;\n",
              "    }\n",
              "\n",
              "    .dataframe tbody tr th {\n",
              "        vertical-align: top;\n",
              "    }\n",
              "\n",
              "    .dataframe thead th {\n",
              "        text-align: right;\n",
              "    }\n",
              "</style>\n",
              "<table border=\"1\" class=\"dataframe\">\n",
              "  <thead>\n",
              "    <tr style=\"text-align: right;\">\n",
              "      <th></th>\n",
              "      <th>customerID</th>\n",
              "      <th>gender</th>\n",
              "      <th>SeniorCitizen</th>\n",
              "      <th>Partner</th>\n",
              "      <th>Dependents</th>\n",
              "      <th>tenure</th>\n",
              "      <th>PhoneService</th>\n",
              "      <th>MultipleLines</th>\n",
              "      <th>InternetService</th>\n",
              "      <th>OnlineSecurity</th>\n",
              "      <th>OnlineBackup</th>\n",
              "      <th>DeviceProtection</th>\n",
              "      <th>TechSupport</th>\n",
              "      <th>StreamingTV</th>\n",
              "      <th>StreamingMovies</th>\n",
              "      <th>Contract</th>\n",
              "      <th>PaperlessBilling</th>\n",
              "      <th>PaymentMethod</th>\n",
              "      <th>MonthlyCharges</th>\n",
              "      <th>TotalCharges</th>\n",
              "      <th>Churn</th>\n",
              "    </tr>\n",
              "  </thead>\n",
              "  <tbody>\n",
              "    <tr>\n",
              "      <th>0</th>\n",
              "      <td>7590-VHVEG</td>\n",
              "      <td>Female</td>\n",
              "      <td>0</td>\n",
              "      <td>Yes</td>\n",
              "      <td>No</td>\n",
              "      <td>1</td>\n",
              "      <td>No</td>\n",
              "      <td>No phone service</td>\n",
              "      <td>DSL</td>\n",
              "      <td>No</td>\n",
              "      <td>Yes</td>\n",
              "      <td>No</td>\n",
              "      <td>No</td>\n",
              "      <td>No</td>\n",
              "      <td>No</td>\n",
              "      <td>Month-to-month</td>\n",
              "      <td>Yes</td>\n",
              "      <td>Electronic check</td>\n",
              "      <td>29.85</td>\n",
              "      <td>29.85</td>\n",
              "      <td>No</td>\n",
              "    </tr>\n",
              "    <tr>\n",
              "      <th>1</th>\n",
              "      <td>5575-GNVDE</td>\n",
              "      <td>Male</td>\n",
              "      <td>0</td>\n",
              "      <td>No</td>\n",
              "      <td>No</td>\n",
              "      <td>34</td>\n",
              "      <td>Yes</td>\n",
              "      <td>No</td>\n",
              "      <td>DSL</td>\n",
              "      <td>Yes</td>\n",
              "      <td>No</td>\n",
              "      <td>Yes</td>\n",
              "      <td>No</td>\n",
              "      <td>No</td>\n",
              "      <td>No</td>\n",
              "      <td>One year</td>\n",
              "      <td>No</td>\n",
              "      <td>Mailed check</td>\n",
              "      <td>56.95</td>\n",
              "      <td>1889.50</td>\n",
              "      <td>No</td>\n",
              "    </tr>\n",
              "    <tr>\n",
              "      <th>2</th>\n",
              "      <td>3668-QPYBK</td>\n",
              "      <td>Male</td>\n",
              "      <td>0</td>\n",
              "      <td>No</td>\n",
              "      <td>No</td>\n",
              "      <td>2</td>\n",
              "      <td>Yes</td>\n",
              "      <td>No</td>\n",
              "      <td>DSL</td>\n",
              "      <td>Yes</td>\n",
              "      <td>Yes</td>\n",
              "      <td>No</td>\n",
              "      <td>No</td>\n",
              "      <td>No</td>\n",
              "      <td>No</td>\n",
              "      <td>Month-to-month</td>\n",
              "      <td>Yes</td>\n",
              "      <td>Mailed check</td>\n",
              "      <td>53.85</td>\n",
              "      <td>108.15</td>\n",
              "      <td>Yes</td>\n",
              "    </tr>\n",
              "    <tr>\n",
              "      <th>3</th>\n",
              "      <td>7795-CFOCW</td>\n",
              "      <td>Male</td>\n",
              "      <td>0</td>\n",
              "      <td>No</td>\n",
              "      <td>No</td>\n",
              "      <td>45</td>\n",
              "      <td>No</td>\n",
              "      <td>No phone service</td>\n",
              "      <td>DSL</td>\n",
              "      <td>Yes</td>\n",
              "      <td>No</td>\n",
              "      <td>Yes</td>\n",
              "      <td>Yes</td>\n",
              "      <td>No</td>\n",
              "      <td>No</td>\n",
              "      <td>One year</td>\n",
              "      <td>No</td>\n",
              "      <td>Bank transfer (automatic)</td>\n",
              "      <td>42.30</td>\n",
              "      <td>1840.75</td>\n",
              "      <td>No</td>\n",
              "    </tr>\n",
              "    <tr>\n",
              "      <th>4</th>\n",
              "      <td>9237-HQITU</td>\n",
              "      <td>Female</td>\n",
              "      <td>0</td>\n",
              "      <td>No</td>\n",
              "      <td>No</td>\n",
              "      <td>2</td>\n",
              "      <td>Yes</td>\n",
              "      <td>No</td>\n",
              "      <td>Fiber optic</td>\n",
              "      <td>No</td>\n",
              "      <td>No</td>\n",
              "      <td>No</td>\n",
              "      <td>No</td>\n",
              "      <td>No</td>\n",
              "      <td>No</td>\n",
              "      <td>Month-to-month</td>\n",
              "      <td>Yes</td>\n",
              "      <td>Electronic check</td>\n",
              "      <td>70.70</td>\n",
              "      <td>151.65</td>\n",
              "      <td>Yes</td>\n",
              "    </tr>\n",
              "  </tbody>\n",
              "</table>\n",
              "</div>\n",
              "      <button class=\"colab-df-convert\" onclick=\"convertToInteractive('df-b138fa52-275b-43b7-add9-438550feecea')\"\n",
              "              title=\"Convert this dataframe to an interactive table.\"\n",
              "              style=\"display:none;\">\n",
              "        \n",
              "  <svg xmlns=\"http://www.w3.org/2000/svg\" height=\"24px\"viewBox=\"0 0 24 24\"\n",
              "       width=\"24px\">\n",
              "    <path d=\"M0 0h24v24H0V0z\" fill=\"none\"/>\n",
              "    <path d=\"M18.56 5.44l.94 2.06.94-2.06 2.06-.94-2.06-.94-.94-2.06-.94 2.06-2.06.94zm-11 1L8.5 8.5l.94-2.06 2.06-.94-2.06-.94L8.5 2.5l-.94 2.06-2.06.94zm10 10l.94 2.06.94-2.06 2.06-.94-2.06-.94-.94-2.06-.94 2.06-2.06.94z\"/><path d=\"M17.41 7.96l-1.37-1.37c-.4-.4-.92-.59-1.43-.59-.52 0-1.04.2-1.43.59L10.3 9.45l-7.72 7.72c-.78.78-.78 2.05 0 2.83L4 21.41c.39.39.9.59 1.41.59.51 0 1.02-.2 1.41-.59l7.78-7.78 2.81-2.81c.8-.78.8-2.07 0-2.86zM5.41 20L4 18.59l7.72-7.72 1.47 1.35L5.41 20z\"/>\n",
              "  </svg>\n",
              "      </button>\n",
              "      \n",
              "  <style>\n",
              "    .colab-df-container {\n",
              "      display:flex;\n",
              "      flex-wrap:wrap;\n",
              "      gap: 12px;\n",
              "    }\n",
              "\n",
              "    .colab-df-convert {\n",
              "      background-color: #E8F0FE;\n",
              "      border: none;\n",
              "      border-radius: 50%;\n",
              "      cursor: pointer;\n",
              "      display: none;\n",
              "      fill: #1967D2;\n",
              "      height: 32px;\n",
              "      padding: 0 0 0 0;\n",
              "      width: 32px;\n",
              "    }\n",
              "\n",
              "    .colab-df-convert:hover {\n",
              "      background-color: #E2EBFA;\n",
              "      box-shadow: 0px 1px 2px rgba(60, 64, 67, 0.3), 0px 1px 3px 1px rgba(60, 64, 67, 0.15);\n",
              "      fill: #174EA6;\n",
              "    }\n",
              "\n",
              "    [theme=dark] .colab-df-convert {\n",
              "      background-color: #3B4455;\n",
              "      fill: #D2E3FC;\n",
              "    }\n",
              "\n",
              "    [theme=dark] .colab-df-convert:hover {\n",
              "      background-color: #434B5C;\n",
              "      box-shadow: 0px 1px 3px 1px rgba(0, 0, 0, 0.15);\n",
              "      filter: drop-shadow(0px 1px 2px rgba(0, 0, 0, 0.3));\n",
              "      fill: #FFFFFF;\n",
              "    }\n",
              "  </style>\n",
              "\n",
              "      <script>\n",
              "        const buttonEl =\n",
              "          document.querySelector('#df-b138fa52-275b-43b7-add9-438550feecea button.colab-df-convert');\n",
              "        buttonEl.style.display =\n",
              "          google.colab.kernel.accessAllowed ? 'block' : 'none';\n",
              "\n",
              "        async function convertToInteractive(key) {\n",
              "          const element = document.querySelector('#df-b138fa52-275b-43b7-add9-438550feecea');\n",
              "          const dataTable =\n",
              "            await google.colab.kernel.invokeFunction('convertToInteractive',\n",
              "                                                     [key], {});\n",
              "          if (!dataTable) return;\n",
              "\n",
              "          const docLinkHtml = 'Like what you see? Visit the ' +\n",
              "            '<a target=\"_blank\" href=https://colab.research.google.com/notebooks/data_table.ipynb>data table notebook</a>'\n",
              "            + ' to learn more about interactive tables.';\n",
              "          element.innerHTML = '';\n",
              "          dataTable['output_type'] = 'display_data';\n",
              "          await google.colab.output.renderOutput(dataTable, element);\n",
              "          const docLink = document.createElement('div');\n",
              "          docLink.innerHTML = docLinkHtml;\n",
              "          element.appendChild(docLink);\n",
              "        }\n",
              "      </script>\n",
              "    </div>\n",
              "  </div>\n",
              "  "
            ],
            "text/plain": [
              "   customerID  gender  SeniorCitizen Partner Dependents  tenure PhoneService  \\\n",
              "0  7590-VHVEG  Female              0     Yes         No       1           No   \n",
              "1  5575-GNVDE    Male              0      No         No      34          Yes   \n",
              "2  3668-QPYBK    Male              0      No         No       2          Yes   \n",
              "3  7795-CFOCW    Male              0      No         No      45           No   \n",
              "4  9237-HQITU  Female              0      No         No       2          Yes   \n",
              "\n",
              "      MultipleLines InternetService OnlineSecurity OnlineBackup  \\\n",
              "0  No phone service             DSL             No          Yes   \n",
              "1                No             DSL            Yes           No   \n",
              "2                No             DSL            Yes          Yes   \n",
              "3  No phone service             DSL            Yes           No   \n",
              "4                No     Fiber optic             No           No   \n",
              "\n",
              "  DeviceProtection TechSupport StreamingTV StreamingMovies        Contract  \\\n",
              "0               No          No          No              No  Month-to-month   \n",
              "1              Yes          No          No              No        One year   \n",
              "2               No          No          No              No  Month-to-month   \n",
              "3              Yes         Yes          No              No        One year   \n",
              "4               No          No          No              No  Month-to-month   \n",
              "\n",
              "  PaperlessBilling              PaymentMethod  MonthlyCharges  TotalCharges  \\\n",
              "0              Yes           Electronic check           29.85         29.85   \n",
              "1               No               Mailed check           56.95       1889.50   \n",
              "2              Yes               Mailed check           53.85        108.15   \n",
              "3               No  Bank transfer (automatic)           42.30       1840.75   \n",
              "4              Yes           Electronic check           70.70        151.65   \n",
              "\n",
              "  Churn  \n",
              "0    No  \n",
              "1    No  \n",
              "2   Yes  \n",
              "3    No  \n",
              "4   Yes  "
            ]
          },
          "execution_count": 12,
          "metadata": {},
          "output_type": "execute_result"
        }
      ],
      "source": [
        "data.head()"
      ]
    },
    {
      "cell_type": "code",
      "execution_count": 13,
      "metadata": {
        "colab": {
          "base_uri": "https://localhost:8080/",
          "height": 374
        },
        "id": "SoAB0HjYenzR",
        "outputId": "487097fb-48ca-43fb-9f13-0c73120ffb72"
      },
      "outputs": [
        {
          "data": {
            "text/plain": [
              "<matplotlib.axes._subplots.AxesSubplot at 0x7f8f673d8750>"
            ]
          },
          "execution_count": 13,
          "metadata": {},
          "output_type": "execute_result"
        },
        {
          "data": {
            "image/png": "[encoded data removed]",
            "text/plain": [
              "<Figure size 648x432 with 1 Axes>"
            ]
          },
          "metadata": {},
          "output_type": "display_data"
        }
      ],
      "source": [
        "data.Churn.value_counts().plot(kind='pie', autopct='%1.1f%%', \n",
        "                               labels=['No churn','churn'], figsize=(9,6),\n",
        "                               ylabel='')"
      ]
    },
    {
      "cell_type": "markdown",
      "metadata": {
        "id": "Rr1hD-F-oFs2"
      },
      "source": [
        "as we can see above, more than 26% customers are decide to leave. thats quite huge amount and we need to take it seriously. for a better result maybe i will do data sampling later on to overcome class imbalance "
      ]
    },
    {
      "cell_type": "markdown",
      "metadata": {
        "id": "m4OM4S44o52B"
      },
      "source": [
        "### a. Customer Personal Related EDA"
      ]
    },
    {
      "cell_type": "code",
      "execution_count": 14,
      "metadata": {
        "id": "gaM1ADa7huDq"
      },
      "outputs": [],
      "source": [
        "def bar_plt(x):\n",
        "  fig, axes = plt.subplots(1,2, figsize=(14,5))\n",
        "  data.groupby(x)['Churn'].value_counts().unstack().plot(kind='bar', ax=axes[0])\n",
        "  axes[0].set_ylabel('Count');\n",
        "  axes[0].set_title('Churn Counts by ' + x);\n",
        "  group = data.groupby(x)['Churn'].value_counts().unstack()\n",
        "  axes[1].bar([str(group.index[0]), str(group.index[1])], \n",
        "          [group.iloc[0][1]/(group.iloc[0][1]+group.iloc[0][0]), group.iloc[1][1]/(group.iloc[1][1]+group.iloc[1][0])],\n",
        "          width=0.5)\n",
        "  axes[1].set_ylabel('Ratio');\n",
        "  axes[1].set_title('Churn Ratio by ' + x);\n",
        "  axes[1].set_xlim(-0.5, 1.5);"
      ]
    },
    {
      "cell_type": "code",
      "execution_count": 15,
      "metadata": {
        "colab": {
          "base_uri": "https://localhost:8080/",
          "height": 376
        },
        "id": "C1D78oYct14s",
        "outputId": "9a88015c-7d9f-4633-f341-71b563993d0e"
      },
      "outputs": [
        {
          "data": {
            "image/png": "[encoded data removed]",
            "text/plain": [
              "<Figure size 1008x360 with 2 Axes>"
            ]
          },
          "metadata": {
            "needs_background": "light"
          },
          "output_type": "display_data"
        }
      ],
      "source": [
        "bar_plt('gender')"
      ]
    },
    {
      "cell_type": "markdown",
      "metadata": {
        "id": "dMhpL4xUpF16"
      },
      "source": [
        "from the first bar chart abover we can say that the amount of female and male customer are quite balance. and about the churn ratio for each gender its quite balance as well. so we can say that gender is not a big deal to inspect customer churn since both have the same ratio in term of churn"
      ]
    },
    {
      "cell_type": "code",
      "execution_count": 16,
      "metadata": {
        "colab": {
          "base_uri": "https://localhost:8080/",
          "height": 346
        },
        "id": "tvRd-SZtt6H1",
        "outputId": "7564eae1-bb93-476c-f56b-b2e86e1f5ffc"
      },
      "outputs": [
        {
          "data": {
            "image/png": "[encoded data removed]",
            "text/plain": [
              "<Figure size 1008x360 with 2 Axes>"
            ]
          },
          "metadata": {
            "needs_background": "light"
          },
          "output_type": "display_data"
        }
      ],
      "source": [
        "bar_plt('SeniorCitizen')"
      ]
    },
    {
      "cell_type": "markdown",
      "metadata": {
        "id": "My2DipmMtUhX"
      },
      "source": [
        "from the first bar chart above in term of amount, non senior citizen is lead all the way. but sadly this kind of customer are having a big tendency to churn or leave rather than the senior one. its mean that the junior customer is less loyal than the senior one infact that junior customer is the main role customer."
      ]
    },
    {
      "cell_type": "code",
      "execution_count": 17,
      "metadata": {
        "colab": {
          "base_uri": "https://localhost:8080/",
          "height": 356
        },
        "id": "EL0cu7PDwsfd",
        "outputId": "ae8ba4a2-a092-4f6c-e68f-61522e717a85"
      },
      "outputs": [
        {
          "data": {
            "image/png": "[encoded data removed]",
            "text/plain": [
              "<Figure size 1008x360 with 2 Axes>"
            ]
          },
          "metadata": {
            "needs_background": "light"
          },
          "output_type": "display_data"
        }
      ],
      "source": [
        "bar_plt('Partner')"
      ]
    },
    {
      "cell_type": "markdown",
      "metadata": {
        "id": "Xj73dzLhu4BK"
      },
      "source": [
        "a non-partnered customer having a big tendency to churn rather than a partnered one."
      ]
    },
    {
      "cell_type": "code",
      "execution_count": 18,
      "metadata": {
        "colab": {
          "base_uri": "https://localhost:8080/",
          "height": 356
        },
        "id": "ZXXLLELPAjmc",
        "outputId": "6b001b01-b1de-4f94-cbde-8865e2dd6e38"
      },
      "outputs": [
        {
          "data": {
            "image/png": "[encoded data removed]",
            "text/plain": [
              "<Figure size 1008x360 with 2 Axes>"
            ]
          },
          "metadata": {
            "needs_background": "light"
          },
          "output_type": "display_data"
        }
      ],
      "source": [
        "bar_plt('Dependents')"
      ]
    },
    {
      "cell_type": "markdown",
      "metadata": {
        "id": "ny-blDkxwSvn"
      },
      "source": [
        "### b. Customer Behaviour Related EDA"
      ]
    },
    {
      "cell_type": "code",
      "execution_count": 19,
      "metadata": {
        "id": "Vp9pbz7Xwqir"
      },
      "outputs": [],
      "source": [
        "def bar_plt(x):\n",
        "  fig, axes = plt.subplots(1,2, figsize=(14,5))\n",
        "  data.groupby(x)['Churn'].value_counts().unstack().plot(kind='bar', ax=axes[0])\n",
        "  axes[0].set_ylabel('Count');\n",
        "  axes[0].set_title('Churn Counts by ' + x);\n",
        "  group = data.groupby(x)['Churn'].value_counts().unstack()\n",
        "  axes[1].bar([str(group.index[0]), str(group.index[1]), str(group.index[2])], \n",
        "          [group.iloc[0][1]/(group.iloc[0][1]+group.iloc[0][0]), group.iloc[1][1]/(group.iloc[1][1]+group.iloc[1][0]), group.iloc[2][1]/(group.iloc[2][1]+group.iloc[2][0])],\n",
        "          width=0.5)\n",
        "  axes[1].set_ylabel('Ratio');\n",
        "  axes[1].set_title('Churn Ratio by ' + x);\n",
        "  axes[1].set_xlim(-0.5, 2.5);"
      ]
    },
    {
      "cell_type": "code",
      "execution_count": 20,
      "metadata": {
        "colab": {
          "base_uri": "https://localhost:8080/",
          "height": 420
        },
        "id": "pQNRtf9Sw7Ub",
        "outputId": "a7790941-aff0-4821-ab8d-b0a78f919f41"
      },
      "outputs": [
        {
          "data": {
            "image/png": "[encoded data removed]",
            "text/plain": [
              "<Figure size 1008x360 with 2 Axes>"
            ]
          },
          "metadata": {
            "needs_background": "light"
          },
          "output_type": "display_data"
        }
      ],
      "source": [
        "bar_plt('Contract')"
      ]
    },
    {
      "cell_type": "markdown",
      "metadata": {
        "id": "4za7CYXrwDMR"
      },
      "source": [
        "based on customer contract there is a crucial information that can be found here. lets have a look on both chart! as we can see, month-to-month contract has a really big churn ratio compare to others contract. if we can see the pattern, the churn ratio is getting decreassed on longer contract. thats mean the longer the contract is, the more loyal the customer are."
      ]
    },
    {
      "cell_type": "code",
      "execution_count": 21,
      "metadata": {
        "colab": {
          "base_uri": "https://localhost:8080/",
          "height": 421
        },
        "id": "4OyqueyKykwP",
        "outputId": "c10c80d5-b03f-45db-d681-6a3be5268809"
      },
      "outputs": [
        {
          "data": {
            "text/plain": [
              "Text(0.5, 0, 'Churn Ratio')"
            ]
          },
          "execution_count": 21,
          "metadata": {},
          "output_type": "execute_result"
        },
        {
          "data": {
            "image/png": "[encoded data removed]",
            "text/plain": [
              "<Figure size 648x432 with 1 Axes>"
            ]
          },
          "metadata": {
            "needs_background": "light"
          },
          "output_type": "display_data"
        }
      ],
      "source": [
        "serv = data[['OnlineSecurity', 'OnlineBackup', 'DeviceProtection', 'TechSupport', 'StreamingTV', 'StreamingMovies']]\n",
        "ratio1 = []\n",
        "ratio2 = []\n",
        "ratio3 = []\n",
        "for i in serv:\n",
        "  group = data.groupby(i)['Churn'].value_counts().unstack()\n",
        "  a = group.iloc[0][1]/(group.iloc[0][1]+group.iloc[0][0])\n",
        "  b = group.iloc[1][1]/(group.iloc[1][1]+group.iloc[1][0])\n",
        "  c = group.iloc[2][1]/(group.iloc[2][1]+group.iloc[2][0])\n",
        "  ratio1.append(a), ratio2.append(b), ratio3.append(c)\n",
        "ratio = pd.DataFrame({'Service': list(serv.columns), 'No': ratio1, 'No Internet': ratio2, 'Yes': ratio3})\n",
        "ratio.plot(x = 'Service', kind = 'barh', stacked = True, title = 'Churn Ration by Service', \n",
        "           mark_right = True, figsize=(9,6))\n",
        "plt.legend(bbox_to_anchor =(1, 1))\n",
        "plt.xlabel('Churn Ratio')"
      ]
    },
    {
      "cell_type": "markdown",
      "metadata": {
        "id": "AQTPqwnPyHb1"
      },
      "source": [
        "the bar chart above show the customer churn ratio based on several services. lets dig in further on extreme case with contrast ratio. for the example, on online security service there is a huge contrast of churn ratio between the customer who subscribe and not. the customer who doesnt subscribe to online security service are tends to leave rather than the customer who subscribe the service. the same thing happen on tech support as well, there is a high contrast between the custome who subscribe or doesnt subscribe."
      ]
    },
    {
      "cell_type": "markdown",
      "metadata": {
        "id": "zdQ1DOvFhOOO"
      },
      "source": [
        "we've already had enough with categorical datas, so lets move to evalutate numerical data. here, im using heatmap to check the corelation between the features."
      ]
    },
    {
      "cell_type": "code",
      "execution_count": 22,
      "metadata": {
        "colab": {
          "base_uri": "https://localhost:8080/",
          "height": 320
        },
        "id": "GQ36rz4haUZx",
        "outputId": "37b0a610-d65b-4daa-f01e-000fd5f02a43"
      },
      "outputs": [
        {
          "data": {
            "image/png": "[encoded data removed]",
            "text/plain": [
              "<Figure size 504x360 with 2 Axes>"
            ]
          },
          "metadata": {
            "needs_background": "light"
          },
          "output_type": "display_data"
        }
      ],
      "source": [
        "plt.figure(figsize=(7,5))\n",
        "sns.heatmap(data[['tenure', 'MonthlyCharges', 'TotalCharges']].corr(), \n",
        "            annot=True, mask=np.triu(np.ones_like(data[['tenure', 'MonthlyCharges', 'TotalCharges']].corr())));"
      ]
    },
    {
      "cell_type": "markdown",
      "metadata": {
        "id": "bkqh3pLjbOJj"
      },
      "source": [
        "from the heatmap matrix above, there are some feature that having a high corelation to other feature.\n",
        "* total charges has a high corelation to tenure\n",
        "* total charges has a quite high corelastion with monthly charges as well.\n",
        "\n",
        "though some features has strong corelation to others, but for this case i might not drop any of them since we lack of numerical data"
      ]
    },
    {
      "cell_type": "markdown",
      "metadata": {
        "id": "o9QVbQZcZyDB"
      },
      "source": [
        "## 5. Data Preprocessing"
      ]
    },
    {
      "cell_type": "markdown",
      "metadata": {
        "id": "ct-b8WB8bqbP"
      },
      "source": [
        "before we get further into preprocessing, lets drop some irelavant column that has nothing to do with target. "
      ]
    },
    {
      "cell_type": "code",
      "execution_count": 23,
      "metadata": {
        "id": "GUduDmEaryMt"
      },
      "outputs": [],
      "source": [
        "data_new = data.drop(columns='customerID')"
      ]
    },
    {
      "cell_type": "markdown",
      "metadata": {
        "id": "K61BAmX3b4bd"
      },
      "source": [
        "convert churn or target into numerical binary"
      ]
    },
    {
      "cell_type": "code",
      "execution_count": 24,
      "metadata": {
        "id": "GJhdJx3n4uCt"
      },
      "outputs": [],
      "source": [
        "data_new['Churn'] = np.where(data_new['Churn']=='Yes', 1, 0)"
      ]
    },
    {
      "cell_type": "markdown",
      "metadata": {
        "id": "ri0OBn0l2fDu"
      },
      "source": [
        "convert any binary feature to numerical binary"
      ]
    },
    {
      "cell_type": "code",
      "execution_count": 25,
      "metadata": {
        "id": "IzcwqM2Z27TZ"
      },
      "outputs": [],
      "source": [
        "yes_no = ['SeniorCitizen', 'Partner', 'Dependents', 'PaperlessBilling']\n",
        "for i in yes_no:\n",
        "  data_new[i] = np.where(data_new[i]=='Yes', 1, 0)"
      ]
    },
    {
      "cell_type": "code",
      "execution_count": 26,
      "metadata": {
        "id": "ZqLzUGnKqMob"
      },
      "outputs": [],
      "source": [
        "num_cols = ['tenure', 'MonthlyCharges', 'TotalCharges', 'SeniorCitizen', 'Partner', 'Dependents', 'PaperlessBilling']\n",
        "cat_cols = ['gender', 'PhoneService', 'MultipleLines', 'InternetService','OnlineSecurity', 'OnlineBackup', \n",
        "            'DeviceProtection', 'TechSupport', 'StreamingTV', 'StreamingMovies', 'Contract', 'PaymentMethod']"
      ]
    },
    {
      "cell_type": "markdown",
      "metadata": {
        "id": "RmiUBs7PpRgV"
      },
      "source": [
        "### a. Data Cleaning"
      ]
    },
    {
      "cell_type": "markdown",
      "metadata": {
        "id": "nLVVaRKitGVO"
      },
      "source": [
        "**Outliers Checking**"
      ]
    },
    {
      "cell_type": "code",
      "execution_count": 27,
      "metadata": {
        "colab": {
          "base_uri": "https://localhost:8080/",
          "height": 241
        },
        "id": "oXeI0CahrafJ",
        "outputId": "2976071a-8657-449e-b438-feaebfd17259"
      },
      "outputs": [
        {
          "data": {
            "image/png": "[encoded data removed]",
            "text/plain": [
              "<Figure size 1152x216 with 3 Axes>"
            ]
          },
          "metadata": {
            "needs_background": "light"
          },
          "output_type": "display_data"
        }
      ],
      "source": [
        "fig, axe = plt.subplots(1,3, figsize=(16,3))\n",
        "axes = axe.flatten()\n",
        "for i,j in enumerate(data_new[['tenure', 'MonthlyCharges', 'TotalCharges']].columns):\n",
        "  sns.boxplot(data_new[j], ax=axes[i]);\n",
        "  axes[i].set_title(j)\n",
        "plt.subplots_adjust(hspace=0.4)\n",
        "plt.show()"
      ]
    },
    {
      "cell_type": "markdown",
      "metadata": {
        "id": "bnulsSYrtqZb"
      },
      "source": [
        "suprisingly its clean! there is no outlier on the numerics coloumns."
      ]
    },
    {
      "cell_type": "markdown",
      "metadata": {
        "id": "tdiUpLD9uCGV"
      },
      "source": [
        "**Check Missing Value**"
      ]
    },
    {
      "cell_type": "code",
      "execution_count": 28,
      "metadata": {
        "colab": {
          "base_uri": "https://localhost:8080/"
        },
        "id": "LCcM6mqCuC75",
        "outputId": "1c68879d-0c61-493c-c16e-4493a727d31f"
      },
      "outputs": [
        {
          "data": {
            "text/plain": [
              "TotalCharges        11\n",
              "gender               0\n",
              "SeniorCitizen        0\n",
              "MonthlyCharges       0\n",
              "PaymentMethod        0\n",
              "PaperlessBilling     0\n",
              "Contract             0\n",
              "StreamingMovies      0\n",
              "StreamingTV          0\n",
              "TechSupport          0\n",
              "DeviceProtection     0\n",
              "OnlineBackup         0\n",
              "OnlineSecurity       0\n",
              "InternetService      0\n",
              "MultipleLines        0\n",
              "PhoneService         0\n",
              "tenure               0\n",
              "Dependents           0\n",
              "Partner              0\n",
              "Churn                0\n",
              "dtype: int64"
            ]
          },
          "execution_count": 28,
          "metadata": {},
          "output_type": "execute_result"
        }
      ],
      "source": [
        "data_new.isnull().sum().sort_values(ascending=False)"
      ]
    },
    {
      "cell_type": "markdown",
      "metadata": {
        "id": "eyqrPHT9uRmB"
      },
      "source": [
        "there is only few missing values on TotalCharges columns. so removing all rows that contain mising value is perform to handle this kind of missing value."
      ]
    },
    {
      "cell_type": "code",
      "execution_count": 103,
      "metadata": {
        "id": "5byz8V6qvC_q"
      },
      "outputs": [],
      "source": [
        "data_new = data_new.dropna()"
      ]
    },
    {
      "cell_type": "markdown",
      "metadata": {
        "id": "zmzZ4ajC080X"
      },
      "source": [
        "### b. Data Spliting"
      ]
    },
    {
      "cell_type": "markdown",
      "metadata": {
        "id": "VwrDCjZ0vcqp"
      },
      "source": [
        "so far our datas are clear and neat, lets split the data into train-test-val before we train them"
      ]
    },
    {
      "cell_type": "code",
      "execution_count": 104,
      "metadata": {
        "id": "niKgexIbwAKI"
      },
      "outputs": [],
      "source": [
        "X = data_new.drop(columns='Churn')\n",
        "y = data_new['Churn']\n",
        "\n",
        "X_train_full, X_test, y_train_full, y_test = train_test_split(X, y, test_size=0.1, random_state=42)\n",
        "X_train, X_valid, y_train, y_valid = train_test_split(X_train_full, y_train_full, test_size=0.25, random_state=42)"
      ]
    },
    {
      "cell_type": "markdown",
      "metadata": {
        "id": "Zk_ropu6ccGR"
      },
      "source": [
        "now we ready to make a pipeline. for numerical columns lets scale them with minmax scaler.\n",
        "\n",
        "for categorical columns we encode them using OneHotEncoder.\n",
        "\n",
        "in this step there is no imputation perform since our datas are clean and neats."
      ]
    },
    {
      "cell_type": "code",
      "execution_count": 31,
      "metadata": {
        "id": "OSnmpRwD5GKO"
      },
      "outputs": [],
      "source": [
        "num_pipeline = make_pipeline(MinMaxScaler())\n",
        "cat_pipeline = make_pipeline(OneHotEncoder())\n",
        "\n",
        "data_pipeline = ColumnTransformer([\n",
        "    ('pipe_num', num_pipeline, num_cols),\n",
        "    ('pipe_cat', cat_pipeline, cat_cols)\n",
        "])"
      ]
    },
    {
      "cell_type": "code",
      "execution_count": 105,
      "metadata": {
        "id": "ZKCMIwr75h9W"
      },
      "outputs": [],
      "source": [
        "X_train = data_pipeline.fit_transform(X_train)\n",
        "#X_test = data_pipeline.transform(X_test)\n",
        "X_valid = data_pipeline.transform(X_valid)"
      ]
    },
    {
      "cell_type": "code",
      "execution_count": 107,
      "metadata": {
        "colab": {
          "base_uri": "https://localhost:8080/"
        },
        "id": "DMyncVy06YgG",
        "outputId": "342690d4-8cae-4bcc-a7e3-df1d5891c270"
      },
      "outputs": [
        {
          "data": {
            "text/plain": [
              "((4746, 42), (1582, 42))"
            ]
          },
          "execution_count": 107,
          "metadata": {},
          "output_type": "execute_result"
        }
      ],
      "source": [
        "X_train.shape, X_valid.shape"
      ]
    },
    {
      "cell_type": "code",
      "execution_count": 34,
      "metadata": {
        "colab": {
          "base_uri": "https://localhost:8080/"
        },
        "id": "kLKoJ6YCdd_m",
        "outputId": "ccc4b7ab-6330-4bb2-ef5a-fd5deb1f00a0"
      },
      "outputs": [
        {
          "data": {
            "text/plain": [
              "0    3498\n",
              "1    1248\n",
              "Name: Churn, dtype: int64"
            ]
          },
          "execution_count": 34,
          "metadata": {},
          "output_type": "execute_result"
        }
      ],
      "source": [
        "y_train.value_counts()"
      ]
    },
    {
      "cell_type": "markdown",
      "metadata": {},
      "source": [
        "our data is a bit imbalance, so lets try handle this using SMOTE"
      ]
    },
    {
      "cell_type": "code",
      "execution_count": 35,
      "metadata": {
        "colab": {
          "base_uri": "https://localhost:8080/"
        },
        "id": "CWv9SVa6dYkd",
        "outputId": "0cc74d20-befc-4fd9-e941-1b0ae218d82b"
      },
      "outputs": [
        {
          "data": {
            "text/plain": [
              "0    3498\n",
              "1    3498\n",
              "Name: Churn, dtype: int64"
            ]
          },
          "execution_count": 35,
          "metadata": {},
          "output_type": "execute_result"
        }
      ],
      "source": [
        "smote = SMOTE(random_state = 42)\n",
        "X_train_balanced, y_train_balanced = smote.fit_resample(X_train, y_train)\n",
        "y_train_balanced.value_counts()"
      ]
    },
    {
      "cell_type": "markdown",
      "metadata": {
        "id": "yepWw9tqZyDC"
      },
      "source": [
        "## 6. Model Definition"
      ]
    },
    {
      "cell_type": "markdown",
      "metadata": {
        "id": "GOTWyyzddF2p"
      },
      "source": [
        "in model definition we build up NN models using 2 methods, the sequential API and functional API."
      ]
    },
    {
      "cell_type": "markdown",
      "metadata": {
        "id": "0CXmkABL65qg"
      },
      "source": [
        "**Sequential (1 hidden layer)**"
      ]
    },
    {
      "cell_type": "code",
      "execution_count": 36,
      "metadata": {
        "id": "ZyYE6g8V6wLt"
      },
      "outputs": [],
      "source": [
        "# Build up a model\n",
        "def sequential_api(n):\n",
        "  model = Sequential()\n",
        "  model.add(Dense(n, activation='relu', input_shape=(42,)))\n",
        "  model.add(Dense(1, activation='sigmoid'))\n",
        "  return model"
      ]
    },
    {
      "cell_type": "markdown",
      "metadata": {
        "id": "ePiUNuB1-Z1e"
      },
      "source": [
        "**Functional API (2 hidden layer)**"
      ]
    },
    {
      "cell_type": "code",
      "execution_count": 37,
      "metadata": {
        "id": "DyDy7Mf9-cVv"
      },
      "outputs": [],
      "source": [
        "def functional_api(n,m):\n",
        "  data_in = Input(shape=(42,))\n",
        "  hidden_1 = Dense(n, activation='relu')(data_in)\n",
        "  hidden_2 = Dense(m, activation='relu')(hidden_1)\n",
        "  out = Dense(1, activation='sigmoid')(hidden_2)\n",
        "  model = Model(inputs=data_in, outputs=out)\n",
        "  return model"
      ]
    },
    {
      "cell_type": "markdown",
      "metadata": {
        "id": "OCb4hQ6HV-Qs"
      },
      "source": [
        "**compile**"
      ]
    },
    {
      "cell_type": "code",
      "execution_count": 38,
      "metadata": {
        "id": "t5Aw6i6sVt52"
      },
      "outputs": [],
      "source": [
        "def compile_model():\n",
        "  model.compile(loss='binary_crossentropy',\n",
        "                optimizer='adam',\n",
        "                metrics=['accuracy'])\n",
        "  return model"
      ]
    },
    {
      "cell_type": "markdown",
      "metadata": {
        "id": "fQ9oiBS8fYhD"
      },
      "source": [
        "in detail, our NN model has 42 input in total. i define 2 model using 2 methods, the sequential one contain 1 hidden layer and the functional one contain 2 hidden layer. the reason why i did this will be explained on the evaluation section later on.\n",
        "\n",
        "the optimizer that the writers using is adam optimizer, and since our datas has binary output, so for the loss we used binary crosentropy"
      ]
    },
    {
      "cell_type": "markdown",
      "metadata": {
        "id": "1si_iewLZyDC"
      },
      "source": [
        "## 7. Model Training"
      ]
    },
    {
      "cell_type": "code",
      "execution_count": 39,
      "metadata": {
        "id": "THegnfMMWB_E"
      },
      "outputs": [],
      "source": [
        "model = sequential_api(4)\n",
        "model = compile_model()"
      ]
    },
    {
      "cell_type": "code",
      "execution_count": 40,
      "metadata": {
        "id": "YT4irtlsSGW-"
      },
      "outputs": [],
      "source": [
        "train_dataset = tf.data.Dataset.from_tensor_slices((X_train, y_train)).shuffle(buffer_size=256).batch(32)\n",
        "valid_dataset = tf.data.Dataset.from_tensor_slices((X_valid, y_valid)).shuffle(buffer_size=256).batch(32)"
      ]
    },
    {
      "cell_type": "code",
      "execution_count": null,
      "metadata": {
        "colab": {
          "base_uri": "https://localhost:8080/"
        },
        "id": "D2NZWpwV7UZU",
        "outputId": "0a161722-e603-4f6f-9446-9120a95b8fe1"
      },
      "outputs": [],
      "source": [
        "history = model.fit(train_dataset, epochs=300, validation_data=valid_dataset)"
      ]
    },
    {
      "cell_type": "markdown",
      "metadata": {
        "id": "ewldY3OOZyDD"
      },
      "source": [
        "## 8. Model Evaluation"
      ]
    },
    {
      "cell_type": "code",
      "execution_count": 42,
      "metadata": {
        "id": "uwCYV27Hw9fJ"
      },
      "outputs": [],
      "source": [
        "def evaluation():\n",
        "  metrics = pd.DataFrame(history.history)\n",
        "  fig, axes = plt.subplots(1,2, figsize=(15,5))\n",
        "  metrics[['loss', 'val_loss']].plot(ax=axes[0])\n",
        "  metrics[['accuracy', 'val_accuracy']].plot(ax=axes[1])"
      ]
    },
    {
      "cell_type": "code",
      "execution_count": 43,
      "metadata": {
        "id": "3tx0JjPMxRxm"
      },
      "outputs": [],
      "source": [
        "def report(feature, og):\n",
        "  y_pred = model.predict(feature)\n",
        "  y_pred = np.where(y_pred > 0.5, 1, 0)\n",
        "  print(classification_report(og, y_pred))"
      ]
    },
    {
      "cell_type": "markdown",
      "metadata": {
        "id": "aTyIwX-Yiqhf"
      },
      "source": [
        "### a. Base Model"
      ]
    },
    {
      "cell_type": "code",
      "execution_count": 44,
      "metadata": {
        "colab": {
          "base_uri": "https://localhost:8080/",
          "height": 321
        },
        "id": "iF4FCvuZxJoR",
        "outputId": "465748b5-18f6-4896-c238-aa0a6b9ee67f"
      },
      "outputs": [
        {
          "data": {
            "image/png": "[encoded data removed]",
            "text/plain": [
              "<Figure size 1080x360 with 2 Axes>"
            ]
          },
          "metadata": {
            "needs_background": "light"
          },
          "output_type": "display_data"
        }
      ],
      "source": [
        "evaluation()"
      ]
    },
    {
      "cell_type": "code",
      "execution_count": 45,
      "metadata": {
        "colab": {
          "base_uri": "https://localhost:8080/"
        },
        "id": "1mm7meExiIjR",
        "outputId": "3511192d-da04-4ef5-a234-1a636bc972f3"
      },
      "outputs": [
        {
          "name": "stdout",
          "output_type": "stream",
          "text": [
            "              precision    recall  f1-score   support\n",
            "\n",
            "           0       0.85      0.89      0.87      1154\n",
            "           1       0.65      0.57      0.61       428\n",
            "\n",
            "    accuracy                           0.80      1582\n",
            "   macro avg       0.75      0.73      0.74      1582\n",
            "weighted avg       0.80      0.80      0.80      1582\n",
            "\n"
          ]
        }
      ],
      "source": [
        "#validation classification report\n",
        "report(X_valid, y_valid)"
      ]
    },
    {
      "cell_type": "code",
      "execution_count": 46,
      "metadata": {
        "colab": {
          "base_uri": "https://localhost:8080/"
        },
        "id": "PiNATpBTjnd6",
        "outputId": "e55e83b4-6bf7-450c-b417-582342798967"
      },
      "outputs": [
        {
          "name": "stdout",
          "output_type": "stream",
          "text": [
            "              precision    recall  f1-score   support\n",
            "\n",
            "           0       0.86      0.89      0.88      3498\n",
            "           1       0.66      0.60      0.63      1248\n",
            "\n",
            "    accuracy                           0.81      4746\n",
            "   macro avg       0.76      0.74      0.75      4746\n",
            "weighted avg       0.81      0.81      0.81      4746\n",
            "\n"
          ]
        }
      ],
      "source": [
        "#train classification report\n",
        "report(X_train, y_train)"
      ]
    },
    {
      "cell_type": "markdown",
      "metadata": {
        "id": "OGc6ErsGqG_7"
      },
      "source": [
        "for the first attempt our model is not a disappointment. the accuracy is just good, but wait... the recall is a bad news. on this churn case recall score is very crucial because we need to detect this class acuratelly so we can proposed a strategy to minimize them. can our model do better? lets try doing some modiffication!"
      ]
    },
    {
      "cell_type": "markdown",
      "metadata": {
        "id": "lu0f9zyIiyeL"
      },
      "source": [
        "### b. Some Modification"
      ]
    },
    {
      "cell_type": "markdown",
      "metadata": {
        "id": "A7bg9lker88w"
      },
      "source": [
        "does adding nodes to the hidden layer make any differences? lets try adding more nodes to the hidden layers, lets say 16 nodes"
      ]
    },
    {
      "cell_type": "code",
      "execution_count": null,
      "metadata": {
        "colab": {
          "base_uri": "https://localhost:8080/"
        },
        "id": "nydcqp0E0ara",
        "outputId": "f7eeebcd-bc93-4436-b389-65ce4b566555"
      },
      "outputs": [],
      "source": [
        "model = sequential_api(16)\n",
        "model = compile_model()\n",
        "history = model.fit(train_dataset, epochs=100, validation_data=valid_dataset);"
      ]
    },
    {
      "cell_type": "code",
      "execution_count": 48,
      "metadata": {
        "colab": {
          "base_uri": "https://localhost:8080/",
          "height": 320
        },
        "id": "ODy4A7g31FIy",
        "outputId": "8824963f-652f-40d4-8e7a-3c6e9d90e79a"
      },
      "outputs": [
        {
          "data": {
            "image/png": "[encoded data removed]",
            "text/plain": [
              "<Figure size 1080x360 with 2 Axes>"
            ]
          },
          "metadata": {
            "needs_background": "light"
          },
          "output_type": "display_data"
        }
      ],
      "source": [
        "evaluation()"
      ]
    },
    {
      "cell_type": "markdown",
      "metadata": {
        "id": "hWSw0_OOsTAr"
      },
      "source": [
        "oops, no. its a big no no. the model is overfitting now. adding nodes to the hidden layer for this case is a bad idea, lets try another way."
      ]
    },
    {
      "cell_type": "markdown",
      "metadata": {
        "id": "OIBK7jyLsnTo"
      },
      "source": [
        "lets add another layer to our model and now we have a model with 2 hidden layers. lets start with a small nodes, does it work?"
      ]
    },
    {
      "cell_type": "code",
      "execution_count": null,
      "metadata": {
        "colab": {
          "base_uri": "https://localhost:8080/"
        },
        "id": "JizMJW4_1VEm",
        "outputId": "ad9c94b5-b369-4383-d449-0e37115a33f1"
      },
      "outputs": [],
      "source": [
        "model = functional_api(6,4)\n",
        "model = compile_model()\n",
        "history = model.fit(train_dataset, epochs=200, validation_data=valid_dataset);"
      ]
    },
    {
      "cell_type": "code",
      "execution_count": 50,
      "metadata": {
        "colab": {
          "base_uri": "https://localhost:8080/",
          "height": 320
        },
        "id": "PIPOn2pS1uKI",
        "outputId": "78f4dc93-13f4-4ce4-99dc-58982358b6df"
      },
      "outputs": [
        {
          "data": {
            "image/png": "[encoded data removed]",
            "text/plain": [
              "<Figure size 1080x360 with 2 Axes>"
            ]
          },
          "metadata": {
            "needs_background": "light"
          },
          "output_type": "display_data"
        }
      ],
      "source": [
        "evaluation()"
      ]
    },
    {
      "cell_type": "markdown",
      "metadata": {
        "id": "sFEEW8QPuHw5"
      },
      "source": [
        "the model still not doing great. okay maybe so far this is what our model can do, the accuracy just stuck at 0.8. just like expert say, NN model is not the best choice and too powerfull for a small data."
      ]
    },
    {
      "cell_type": "markdown",
      "metadata": {
        "id": "AErvpiLxi8Zb"
      },
      "source": [
        "### c. Recall optimization"
      ]
    },
    {
      "cell_type": "markdown",
      "metadata": {
        "id": "cIsoDnP_jHi-"
      },
      "source": [
        "\n",
        "so lets just stick on the very first model, thats the best model so far. our goal now is how to increasng the recall score. so lets train our model using a train set that we've already do a class balancing using SMOTE"
      ]
    },
    {
      "cell_type": "code",
      "execution_count": 85,
      "metadata": {
        "id": "Rk2bpOl5vdYi"
      },
      "outputs": [],
      "source": [
        "model = sequential_api(4)\n",
        "model = compile_model()"
      ]
    },
    {
      "cell_type": "code",
      "execution_count": null,
      "metadata": {
        "colab": {
          "base_uri": "https://localhost:8080/"
        },
        "id": "9FxxgqKSvSiR",
        "outputId": "c592797e-b4fa-405b-a953-30b2b4171204"
      },
      "outputs": [],
      "source": [
        "train_dataset_balanced = tf.data.Dataset.from_tensor_slices((X_train_balanced, y_train_balanced)).shuffle(buffer_size=1024).batch(128)\n",
        "history = model.fit(train_dataset_balanced, epochs=600, validation_data=valid_dataset)"
      ]
    },
    {
      "cell_type": "code",
      "execution_count": 87,
      "metadata": {
        "colab": {
          "base_uri": "https://localhost:8080/",
          "height": 323
        },
        "id": "NkzKonRmvxSY",
        "outputId": "44adac06-ba48-4347-b0c6-e9344f583c7f"
      },
      "outputs": [
        {
          "data": {
            "image/png": "[encoded data removed]",
            "text/plain": [
              "<Figure size 1080x360 with 2 Axes>"
            ]
          },
          "metadata": {
            "needs_background": "light"
          },
          "output_type": "display_data"
        }
      ],
      "source": [
        "evaluation()"
      ]
    },
    {
      "cell_type": "markdown",
      "metadata": {
        "id": "FzJ56oARycCd"
      },
      "source": [
        "i think the best epoch for this model is around 300 epochs, lets adjust it and evaluate it later on."
      ]
    },
    {
      "cell_type": "code",
      "execution_count": 91,
      "metadata": {
        "id": "GRa1zLZrPlWU"
      },
      "outputs": [],
      "source": [
        "model = sequential_api(4)\n",
        "model = compile_model()"
      ]
    },
    {
      "cell_type": "code",
      "execution_count": null,
      "metadata": {
        "colab": {
          "base_uri": "https://localhost:8080/"
        },
        "id": "eiNz2nrxPpZM",
        "outputId": "15b86ff7-7e1c-4138-fe0f-24fac1141936"
      },
      "outputs": [],
      "source": [
        "train_dataset_balanced = tf.data.Dataset.from_tensor_slices((X_train_balanced, y_train_balanced)).shuffle(buffer_size=1024).batch(128)\n",
        "history = model.fit(train_dataset_balanced, epochs=300, validation_data=valid_dataset)"
      ]
    },
    {
      "cell_type": "code",
      "execution_count": 93,
      "metadata": {
        "colab": {
          "base_uri": "https://localhost:8080/",
          "height": 320
        },
        "id": "Duwln2bdPvvU",
        "outputId": "51fc152a-aa4e-44b6-eb40-3653980a9977"
      },
      "outputs": [
        {
          "data": {
            "image/png": "[encoded data removed]",
            "text/plain": [
              "<Figure size 1080x360 with 2 Axes>"
            ]
          },
          "metadata": {
            "needs_background": "light"
          },
          "output_type": "display_data"
        }
      ],
      "source": [
        "evaluation()"
      ]
    },
    {
      "cell_type": "markdown",
      "metadata": {
        "id": "z8qroXdyX-2L"
      },
      "source": [
        "i think the model is kind of underfit, but its not that bad actually so lets just evaluate them."
      ]
    },
    {
      "cell_type": "code",
      "execution_count": 94,
      "metadata": {
        "colab": {
          "base_uri": "https://localhost:8080/"
        },
        "id": "GF-V7Rr8w0l2",
        "outputId": "b79fb1c2-3031-400a-dae4-8980f80dce1c"
      },
      "outputs": [
        {
          "name": "stdout",
          "output_type": "stream",
          "text": [
            "              precision    recall  f1-score   support\n",
            "\n",
            "           0       0.89      0.74      0.81      1154\n",
            "           1       0.52      0.75      0.62       428\n",
            "\n",
            "    accuracy                           0.75      1582\n",
            "   macro avg       0.71      0.75      0.71      1582\n",
            "weighted avg       0.79      0.75      0.76      1582\n",
            "\n"
          ]
        }
      ],
      "source": [
        "#validation classification report\n",
        "report(X_valid, y_valid)"
      ]
    },
    {
      "cell_type": "code",
      "execution_count": 95,
      "metadata": {
        "colab": {
          "base_uri": "https://localhost:8080/"
        },
        "id": "wUV-8TDrxBl0",
        "outputId": "a27e199d-0241-42b2-8c54-1e653e7f83ab"
      },
      "outputs": [
        {
          "name": "stdout",
          "output_type": "stream",
          "text": [
            "              precision    recall  f1-score   support\n",
            "\n",
            "           0       0.80      0.74      0.77      3498\n",
            "           1       0.76      0.81      0.79      3498\n",
            "\n",
            "    accuracy                           0.78      6996\n",
            "   macro avg       0.78      0.78      0.78      6996\n",
            "weighted avg       0.78      0.78      0.78      6996\n",
            "\n"
          ]
        }
      ],
      "source": [
        "#train classification report\n",
        "report(X_train_balanced, y_train_balanced)"
      ]
    },
    {
      "cell_type": "markdown",
      "metadata": {
        "id": "NWcObeEBYJDm"
      },
      "source": [
        "firstly, lets just take a look on the accuaracy. it seems like the accuaracy is decreasing a little compare to the last model we have done. but as long as its not overfit i think thats fine.\n",
        "\n",
        "the good news is, our recall is increasing significanly. from 0.5 now its turned out to 0.75. its mean that our model is getting better for predicting class 1 (people who decide to leave), and thats what we want here."
      ]
    },
    {
      "cell_type": "markdown",
      "metadata": {
        "id": "6aioLQRkQo1R"
      },
      "source": [
        "## 9. Model Saving"
      ]
    },
    {
      "cell_type": "markdown",
      "metadata": {
        "id": "VUGBc1S6SBC_"
      },
      "source": [
        "so lets save our best model"
      ]
    },
    {
      "cell_type": "code",
      "execution_count": 97,
      "metadata": {
        "id": "wpHDzYE0RWB9"
      },
      "outputs": [],
      "source": [
        "model.save('model_NN.h5')"
      ]
    },
    {
      "cell_type": "code",
      "execution_count": 101,
      "metadata": {
        "id": "p4tffWTFSI-J"
      },
      "outputs": [],
      "source": [
        "with open('prep_pipeline.pkl', 'wb') as f:\n",
        "    pickle.dump(data_pipeline, f)"
      ]
    },
    {
      "cell_type": "markdown",
      "metadata": {
        "id": "V6AwWMYK0god"
      },
      "source": [
        "## 10. Model Inference"
      ]
    },
    {
      "cell_type": "code",
      "execution_count": 109,
      "metadata": {
        "colab": {
          "base_uri": "https://localhost:8080/",
          "height": 357
        },
        "id": "fmjEhXnOS8Gh",
        "outputId": "5e0857f8-58d2-4e0a-ac16-0b0d4baabda9"
      },
      "outputs": [
        {
          "data": {
            "text/html": [
              "\n",
              "  <div id=\"df-41fc7bed-7334-4095-b4ba-038ede38640b\">\n",
              "    <div class=\"colab-df-container\">\n",
              "      <div>\n",
              "<style scoped>\n",
              "    .dataframe tbody tr th:only-of-type {\n",
              "        vertical-align: middle;\n",
              "    }\n",
              "\n",
              "    .dataframe tbody tr th {\n",
              "        vertical-align: top;\n",
              "    }\n",
              "\n",
              "    .dataframe thead th {\n",
              "        text-align: right;\n",
              "    }\n",
              "</style>\n",
              "<table border=\"1\" class=\"dataframe\">\n",
              "  <thead>\n",
              "    <tr style=\"text-align: right;\">\n",
              "      <th></th>\n",
              "      <th>gender</th>\n",
              "      <th>SeniorCitizen</th>\n",
              "      <th>Partner</th>\n",
              "      <th>Dependents</th>\n",
              "      <th>tenure</th>\n",
              "      <th>PhoneService</th>\n",
              "      <th>MultipleLines</th>\n",
              "      <th>InternetService</th>\n",
              "      <th>OnlineSecurity</th>\n",
              "      <th>OnlineBackup</th>\n",
              "      <th>DeviceProtection</th>\n",
              "      <th>TechSupport</th>\n",
              "      <th>StreamingTV</th>\n",
              "      <th>StreamingMovies</th>\n",
              "      <th>Contract</th>\n",
              "      <th>PaperlessBilling</th>\n",
              "      <th>PaymentMethod</th>\n",
              "      <th>MonthlyCharges</th>\n",
              "      <th>TotalCharges</th>\n",
              "    </tr>\n",
              "  </thead>\n",
              "  <tbody>\n",
              "    <tr>\n",
              "      <th>2481</th>\n",
              "      <td>Male</td>\n",
              "      <td>0</td>\n",
              "      <td>1</td>\n",
              "      <td>0</td>\n",
              "      <td>61</td>\n",
              "      <td>Yes</td>\n",
              "      <td>Yes</td>\n",
              "      <td>No</td>\n",
              "      <td>No internet service</td>\n",
              "      <td>No internet service</td>\n",
              "      <td>No internet service</td>\n",
              "      <td>No internet service</td>\n",
              "      <td>No internet service</td>\n",
              "      <td>No internet service</td>\n",
              "      <td>Two year</td>\n",
              "      <td>0</td>\n",
              "      <td>Bank transfer (automatic)</td>\n",
              "      <td>25.00</td>\n",
              "      <td>1501.75</td>\n",
              "    </tr>\n",
              "    <tr>\n",
              "      <th>6784</th>\n",
              "      <td>Female</td>\n",
              "      <td>0</td>\n",
              "      <td>0</td>\n",
              "      <td>0</td>\n",
              "      <td>19</td>\n",
              "      <td>Yes</td>\n",
              "      <td>Yes</td>\n",
              "      <td>No</td>\n",
              "      <td>No internet service</td>\n",
              "      <td>No internet service</td>\n",
              "      <td>No internet service</td>\n",
              "      <td>No internet service</td>\n",
              "      <td>No internet service</td>\n",
              "      <td>No internet service</td>\n",
              "      <td>Month-to-month</td>\n",
              "      <td>0</td>\n",
              "      <td>Bank transfer (automatic)</td>\n",
              "      <td>24.70</td>\n",
              "      <td>465.85</td>\n",
              "    </tr>\n",
              "    <tr>\n",
              "      <th>6125</th>\n",
              "      <td>Male</td>\n",
              "      <td>0</td>\n",
              "      <td>1</td>\n",
              "      <td>0</td>\n",
              "      <td>13</td>\n",
              "      <td>Yes</td>\n",
              "      <td>Yes</td>\n",
              "      <td>Fiber optic</td>\n",
              "      <td>No</td>\n",
              "      <td>No</td>\n",
              "      <td>Yes</td>\n",
              "      <td>No</td>\n",
              "      <td>Yes</td>\n",
              "      <td>Yes</td>\n",
              "      <td>Month-to-month</td>\n",
              "      <td>1</td>\n",
              "      <td>Credit card (automatic)</td>\n",
              "      <td>102.25</td>\n",
              "      <td>1359.00</td>\n",
              "    </tr>\n",
              "    <tr>\n",
              "      <th>3052</th>\n",
              "      <td>Male</td>\n",
              "      <td>0</td>\n",
              "      <td>1</td>\n",
              "      <td>0</td>\n",
              "      <td>37</td>\n",
              "      <td>Yes</td>\n",
              "      <td>Yes</td>\n",
              "      <td>DSL</td>\n",
              "      <td>Yes</td>\n",
              "      <td>No</td>\n",
              "      <td>No</td>\n",
              "      <td>No</td>\n",
              "      <td>No</td>\n",
              "      <td>No</td>\n",
              "      <td>Month-to-month</td>\n",
              "      <td>1</td>\n",
              "      <td>Mailed check</td>\n",
              "      <td>55.05</td>\n",
              "      <td>2030.75</td>\n",
              "    </tr>\n",
              "    <tr>\n",
              "      <th>4099</th>\n",
              "      <td>Female</td>\n",
              "      <td>0</td>\n",
              "      <td>0</td>\n",
              "      <td>0</td>\n",
              "      <td>6</td>\n",
              "      <td>No</td>\n",
              "      <td>No phone service</td>\n",
              "      <td>DSL</td>\n",
              "      <td>Yes</td>\n",
              "      <td>No</td>\n",
              "      <td>No</td>\n",
              "      <td>No</td>\n",
              "      <td>No</td>\n",
              "      <td>No</td>\n",
              "      <td>Month-to-month</td>\n",
              "      <td>0</td>\n",
              "      <td>Bank transfer (automatic)</td>\n",
              "      <td>29.45</td>\n",
              "      <td>161.45</td>\n",
              "    </tr>\n",
              "  </tbody>\n",
              "</table>\n",
              "</div>\n",
              "      <button class=\"colab-df-convert\" onclick=\"convertToInteractive('df-41fc7bed-7334-4095-b4ba-038ede38640b')\"\n",
              "              title=\"Convert this dataframe to an interactive table.\"\n",
              "              style=\"display:none;\">\n",
              "        \n",
              "  <svg xmlns=\"http://www.w3.org/2000/svg\" height=\"24px\"viewBox=\"0 0 24 24\"\n",
              "       width=\"24px\">\n",
              "    <path d=\"M0 0h24v24H0V0z\" fill=\"none\"/>\n",
              "    <path d=\"M18.56 5.44l.94 2.06.94-2.06 2.06-.94-2.06-.94-.94-2.06-.94 2.06-2.06.94zm-11 1L8.5 8.5l.94-2.06 2.06-.94-2.06-.94L8.5 2.5l-.94 2.06-2.06.94zm10 10l.94 2.06.94-2.06 2.06-.94-2.06-.94-.94-2.06-.94 2.06-2.06.94z\"/><path d=\"M17.41 7.96l-1.37-1.37c-.4-.4-.92-.59-1.43-.59-.52 0-1.04.2-1.43.59L10.3 9.45l-7.72 7.72c-.78.78-.78 2.05 0 2.83L4 21.41c.39.39.9.59 1.41.59.51 0 1.02-.2 1.41-.59l7.78-7.78 2.81-2.81c.8-.78.8-2.07 0-2.86zM5.41 20L4 18.59l7.72-7.72 1.47 1.35L5.41 20z\"/>\n",
              "  </svg>\n",
              "      </button>\n",
              "      \n",
              "  <style>\n",
              "    .colab-df-container {\n",
              "      display:flex;\n",
              "      flex-wrap:wrap;\n",
              "      gap: 12px;\n",
              "    }\n",
              "\n",
              "    .colab-df-convert {\n",
              "      background-color: #E8F0FE;\n",
              "      border: none;\n",
              "      border-radius: 50%;\n",
              "      cursor: pointer;\n",
              "      display: none;\n",
              "      fill: #1967D2;\n",
              "      height: 32px;\n",
              "      padding: 0 0 0 0;\n",
              "      width: 32px;\n",
              "    }\n",
              "\n",
              "    .colab-df-convert:hover {\n",
              "      background-color: #E2EBFA;\n",
              "      box-shadow: 0px 1px 2px rgba(60, 64, 67, 0.3), 0px 1px 3px 1px rgba(60, 64, 67, 0.15);\n",
              "      fill: #174EA6;\n",
              "    }\n",
              "\n",
              "    [theme=dark] .colab-df-convert {\n",
              "      background-color: #3B4455;\n",
              "      fill: #D2E3FC;\n",
              "    }\n",
              "\n",
              "    [theme=dark] .colab-df-convert:hover {\n",
              "      background-color: #434B5C;\n",
              "      box-shadow: 0px 1px 3px 1px rgba(0, 0, 0, 0.15);\n",
              "      filter: drop-shadow(0px 1px 2px rgba(0, 0, 0, 0.3));\n",
              "      fill: #FFFFFF;\n",
              "    }\n",
              "  </style>\n",
              "\n",
              "      <script>\n",
              "        const buttonEl =\n",
              "          document.querySelector('#df-41fc7bed-7334-4095-b4ba-038ede38640b button.colab-df-convert');\n",
              "        buttonEl.style.display =\n",
              "          google.colab.kernel.accessAllowed ? 'block' : 'none';\n",
              "\n",
              "        async function convertToInteractive(key) {\n",
              "          const element = document.querySelector('#df-41fc7bed-7334-4095-b4ba-038ede38640b');\n",
              "          const dataTable =\n",
              "            await google.colab.kernel.invokeFunction('convertToInteractive',\n",
              "                                                     [key], {});\n",
              "          if (!dataTable) return;\n",
              "\n",
              "          const docLinkHtml = 'Like what you see? Visit the ' +\n",
              "            '<a target=\"_blank\" href=https://colab.research.google.com/notebooks/data_table.ipynb>data table notebook</a>'\n",
              "            + ' to learn more about interactive tables.';\n",
              "          element.innerHTML = '';\n",
              "          dataTable['output_type'] = 'display_data';\n",
              "          await google.colab.output.renderOutput(dataTable, element);\n",
              "          const docLink = document.createElement('div');\n",
              "          docLink.innerHTML = docLinkHtml;\n",
              "          element.appendChild(docLink);\n",
              "        }\n",
              "      </script>\n",
              "    </div>\n",
              "  </div>\n",
              "  "
            ],
            "text/plain": [
              "      gender  SeniorCitizen  Partner  Dependents  tenure PhoneService  \\\n",
              "2481    Male              0        1           0      61          Yes   \n",
              "6784  Female              0        0           0      19          Yes   \n",
              "6125    Male              0        1           0      13          Yes   \n",
              "3052    Male              0        1           0      37          Yes   \n",
              "4099  Female              0        0           0       6           No   \n",
              "\n",
              "         MultipleLines InternetService       OnlineSecurity  \\\n",
              "2481               Yes              No  No internet service   \n",
              "6784               Yes              No  No internet service   \n",
              "6125               Yes     Fiber optic                   No   \n",
              "3052               Yes             DSL                  Yes   \n",
              "4099  No phone service             DSL                  Yes   \n",
              "\n",
              "             OnlineBackup     DeviceProtection          TechSupport  \\\n",
              "2481  No internet service  No internet service  No internet service   \n",
              "6784  No internet service  No internet service  No internet service   \n",
              "6125                   No                  Yes                   No   \n",
              "3052                   No                   No                   No   \n",
              "4099                   No                   No                   No   \n",
              "\n",
              "              StreamingTV      StreamingMovies        Contract  \\\n",
              "2481  No internet service  No internet service        Two year   \n",
              "6784  No internet service  No internet service  Month-to-month   \n",
              "6125                  Yes                  Yes  Month-to-month   \n",
              "3052                   No                   No  Month-to-month   \n",
              "4099                   No                   No  Month-to-month   \n",
              "\n",
              "      PaperlessBilling              PaymentMethod  MonthlyCharges  \\\n",
              "2481                 0  Bank transfer (automatic)           25.00   \n",
              "6784                 0  Bank transfer (automatic)           24.70   \n",
              "6125                 1    Credit card (automatic)          102.25   \n",
              "3052                 1               Mailed check           55.05   \n",
              "4099                 0  Bank transfer (automatic)           29.45   \n",
              "\n",
              "      TotalCharges  \n",
              "2481       1501.75  \n",
              "6784        465.85  \n",
              "6125       1359.00  \n",
              "3052       2030.75  \n",
              "4099        161.45  "
            ]
          },
          "execution_count": 109,
          "metadata": {},
          "output_type": "execute_result"
        }
      ],
      "source": [
        "X_test.head()"
      ]
    },
    {
      "cell_type": "code",
      "execution_count": 111,
      "metadata": {
        "id": "stMWQL8LTamk"
      },
      "outputs": [],
      "source": [
        "X_test_scaled = data_pipeline.transform(X_test)"
      ]
    },
    {
      "cell_type": "code",
      "execution_count": 114,
      "metadata": {
        "colab": {
          "base_uri": "https://localhost:8080/"
        },
        "id": "ac1eOmUYTr1R",
        "outputId": "424e8a63-5c7d-4358-fff1-7f5337231753"
      },
      "outputs": [
        {
          "name": "stdout",
          "output_type": "stream",
          "text": [
            "              precision    recall  f1-score   support\n",
            "\n",
            "           0       0.90      0.73      0.81       511\n",
            "           1       0.53      0.79      0.63       193\n",
            "\n",
            "    accuracy                           0.75       704\n",
            "   macro avg       0.72      0.76      0.72       704\n",
            "weighted avg       0.80      0.75      0.76       704\n",
            "\n"
          ]
        }
      ],
      "source": [
        "y_pred_inf = model.predict(X_test_scaled)\n",
        "y_pred_inf = np.where(y_pred_inf > 0.5, 1, 0)\n",
        "print(classification_report(y_test, y_pred_inf))"
      ]
    },
    {
      "cell_type": "markdown",
      "metadata": {
        "id": "iXhkHfSeZ5gj"
      },
      "source": [
        "from the inference data, the report turned out to be good too. the accuracy and recall, both are just good."
      ]
    },
    {
      "cell_type": "markdown",
      "metadata": {
        "id": "-Gyl68n8N1_5"
      },
      "source": [
        "## 11. Conclusion"
      ]
    },
    {
      "cell_type": "markdown",
      "metadata": {
        "id": "vL4-fgOjaU-7"
      },
      "source": [
        "some conclusion that you may find usefull about this work.\n",
        "* best NN model to generalize this dataset is using NN with 1 hidden layer and 4 nodes involved.\n",
        "* by using SMOTE to handle imbalance data, the accuracy and recall of model is just good, both have score up to 0,75 which is not bad.\n",
        "* deep learning is not recommended for this kind of small dataset. for this dataset by using the best model, the maximum accuracy that model can achieve is just solid 0.8, which is just fine."
      ]
    },
    {
      "cell_type": "markdown",
      "metadata": {},
      "source": [
        "app url : https://milestone1-p2-kevin-boy.herokuapp.com/"
      ]
    }
  ],
  "metadata": {
    "colab": {
      "collapsed_sections": [],
      "name": "h8dsft_Milestone1P2_kevin_boy_gunawan.ipynb",
      "provenance": []
    },
    "kernelspec": {
      "display_name": "Python 3",
      "name": "python3"
    },
    "language_info": {
      "name": "python"
    }
  },
  "nbformat": 4,
  "nbformat_minor": 0
}
